{
 "cells": [
  {
   "cell_type": "markdown",
   "metadata": {},
   "source": [
    "# Исследование объявлений о продаже квартир\n",
    "\n",
    "В вашем распоряжении данные сервиса Яндекс.Недвижимость — архив объявлений о продаже квартир в Санкт-Петербурге и соседних населённых пунктов за несколько лет. Нужно научиться определять рыночную стоимость объектов недвижимости. Ваша задача — установить параметры. Это позволит построить автоматизированную систему: она отследит аномалии и мошенническую деятельность. \n",
    "\n",
    "По каждой квартире на продажу доступны два вида данных. Первые вписаны пользователем, вторые — получены автоматически на основе картографических данных. Например, расстояние до центра, аэропорта, ближайшего парка и водоёма. "
   ]
  },
  {
   "cell_type": "markdown",
   "metadata": {},
   "source": [
    "### Шаг 1. Изучение общей информации. "
   ]
  },
  {
   "cell_type": "code",
   "execution_count": 3,
   "metadata": {},
   "outputs": [],
   "source": [
    "import pandas as pd\n",
    "import matplotlib.pyplot as plt"
   ]
  },
  {
   "cell_type": "code",
   "execution_count": 2,
   "metadata": {},
   "outputs": [],
   "source": [
    "data = pd.read_csv(\"/datasets/real_estate_data.csv\", sep = '\\t')"
   ]
  },
  {
   "cell_type": "code",
   "execution_count": 3,
   "metadata": {},
   "outputs": [
    {
     "name": "stdout",
     "output_type": "stream",
     "text": [
      "<class 'pandas.core.frame.DataFrame'>\n",
      "RangeIndex: 23699 entries, 0 to 23698\n",
      "Data columns (total 22 columns):\n",
      "total_images            23699 non-null int64\n",
      "last_price              23699 non-null float64\n",
      "total_area              23699 non-null float64\n",
      "first_day_exposition    23699 non-null object\n",
      "rooms                   23699 non-null int64\n",
      "ceiling_height          14504 non-null float64\n",
      "floors_total            23613 non-null float64\n",
      "living_area             21796 non-null float64\n",
      "floor                   23699 non-null int64\n",
      "is_apartment            2775 non-null object\n",
      "studio                  23699 non-null bool\n",
      "open_plan               23699 non-null bool\n",
      "kitchen_area            21421 non-null float64\n",
      "balcony                 12180 non-null float64\n",
      "locality_name           23650 non-null object\n",
      "airports_nearest        18157 non-null float64\n",
      "cityCenters_nearest     18180 non-null float64\n",
      "parks_around3000        18181 non-null float64\n",
      "parks_nearest           8079 non-null float64\n",
      "ponds_around3000        18181 non-null float64\n",
      "ponds_nearest           9110 non-null float64\n",
      "days_exposition         20518 non-null float64\n",
      "dtypes: bool(2), float64(14), int64(3), object(3)\n",
      "memory usage: 3.7+ MB\n"
     ]
    },
    {
     "data": {
      "text/html": [
       "<div>\n",
       "<style scoped>\n",
       "    .dataframe tbody tr th:only-of-type {\n",
       "        vertical-align: middle;\n",
       "    }\n",
       "\n",
       "    .dataframe tbody tr th {\n",
       "        vertical-align: top;\n",
       "    }\n",
       "\n",
       "    .dataframe thead th {\n",
       "        text-align: right;\n",
       "    }\n",
       "</style>\n",
       "<table border=\"1\" class=\"dataframe\">\n",
       "  <thead>\n",
       "    <tr style=\"text-align: right;\">\n",
       "      <th></th>\n",
       "      <th>total_images</th>\n",
       "      <th>last_price</th>\n",
       "      <th>total_area</th>\n",
       "      <th>rooms</th>\n",
       "      <th>ceiling_height</th>\n",
       "      <th>floors_total</th>\n",
       "      <th>living_area</th>\n",
       "      <th>floor</th>\n",
       "      <th>kitchen_area</th>\n",
       "      <th>balcony</th>\n",
       "      <th>airports_nearest</th>\n",
       "      <th>cityCenters_nearest</th>\n",
       "      <th>parks_around3000</th>\n",
       "      <th>parks_nearest</th>\n",
       "      <th>ponds_around3000</th>\n",
       "      <th>ponds_nearest</th>\n",
       "      <th>days_exposition</th>\n",
       "    </tr>\n",
       "  </thead>\n",
       "  <tbody>\n",
       "    <tr>\n",
       "      <td>count</td>\n",
       "      <td>23699.000000</td>\n",
       "      <td>2.369900e+04</td>\n",
       "      <td>23699.000000</td>\n",
       "      <td>23699.000000</td>\n",
       "      <td>14504.000000</td>\n",
       "      <td>23613.000000</td>\n",
       "      <td>21796.000000</td>\n",
       "      <td>23699.000000</td>\n",
       "      <td>21421.000000</td>\n",
       "      <td>12180.000000</td>\n",
       "      <td>18157.000000</td>\n",
       "      <td>18180.000000</td>\n",
       "      <td>18181.000000</td>\n",
       "      <td>8079.000000</td>\n",
       "      <td>18181.000000</td>\n",
       "      <td>9110.000000</td>\n",
       "      <td>20518.000000</td>\n",
       "    </tr>\n",
       "    <tr>\n",
       "      <td>mean</td>\n",
       "      <td>9.858475</td>\n",
       "      <td>6.541549e+06</td>\n",
       "      <td>60.348651</td>\n",
       "      <td>2.070636</td>\n",
       "      <td>2.771499</td>\n",
       "      <td>10.673824</td>\n",
       "      <td>34.457852</td>\n",
       "      <td>5.892358</td>\n",
       "      <td>10.569807</td>\n",
       "      <td>1.150082</td>\n",
       "      <td>28793.672193</td>\n",
       "      <td>14191.277833</td>\n",
       "      <td>0.611408</td>\n",
       "      <td>490.804555</td>\n",
       "      <td>0.770255</td>\n",
       "      <td>517.980900</td>\n",
       "      <td>180.888634</td>\n",
       "    </tr>\n",
       "    <tr>\n",
       "      <td>std</td>\n",
       "      <td>5.682529</td>\n",
       "      <td>1.088701e+07</td>\n",
       "      <td>35.654083</td>\n",
       "      <td>1.078405</td>\n",
       "      <td>1.261056</td>\n",
       "      <td>6.597173</td>\n",
       "      <td>22.030445</td>\n",
       "      <td>4.885249</td>\n",
       "      <td>5.905438</td>\n",
       "      <td>1.071300</td>\n",
       "      <td>12630.880622</td>\n",
       "      <td>8608.386210</td>\n",
       "      <td>0.802074</td>\n",
       "      <td>342.317995</td>\n",
       "      <td>0.938346</td>\n",
       "      <td>277.720643</td>\n",
       "      <td>219.727988</td>\n",
       "    </tr>\n",
       "    <tr>\n",
       "      <td>min</td>\n",
       "      <td>0.000000</td>\n",
       "      <td>1.219000e+04</td>\n",
       "      <td>12.000000</td>\n",
       "      <td>0.000000</td>\n",
       "      <td>1.000000</td>\n",
       "      <td>1.000000</td>\n",
       "      <td>2.000000</td>\n",
       "      <td>1.000000</td>\n",
       "      <td>1.300000</td>\n",
       "      <td>0.000000</td>\n",
       "      <td>0.000000</td>\n",
       "      <td>181.000000</td>\n",
       "      <td>0.000000</td>\n",
       "      <td>1.000000</td>\n",
       "      <td>0.000000</td>\n",
       "      <td>13.000000</td>\n",
       "      <td>1.000000</td>\n",
       "    </tr>\n",
       "    <tr>\n",
       "      <td>25%</td>\n",
       "      <td>6.000000</td>\n",
       "      <td>3.400000e+06</td>\n",
       "      <td>40.000000</td>\n",
       "      <td>1.000000</td>\n",
       "      <td>2.520000</td>\n",
       "      <td>5.000000</td>\n",
       "      <td>18.600000</td>\n",
       "      <td>2.000000</td>\n",
       "      <td>7.000000</td>\n",
       "      <td>0.000000</td>\n",
       "      <td>18585.000000</td>\n",
       "      <td>9238.000000</td>\n",
       "      <td>0.000000</td>\n",
       "      <td>288.000000</td>\n",
       "      <td>0.000000</td>\n",
       "      <td>294.000000</td>\n",
       "      <td>45.000000</td>\n",
       "    </tr>\n",
       "    <tr>\n",
       "      <td>50%</td>\n",
       "      <td>9.000000</td>\n",
       "      <td>4.650000e+06</td>\n",
       "      <td>52.000000</td>\n",
       "      <td>2.000000</td>\n",
       "      <td>2.650000</td>\n",
       "      <td>9.000000</td>\n",
       "      <td>30.000000</td>\n",
       "      <td>4.000000</td>\n",
       "      <td>9.100000</td>\n",
       "      <td>1.000000</td>\n",
       "      <td>26726.000000</td>\n",
       "      <td>13098.500000</td>\n",
       "      <td>0.000000</td>\n",
       "      <td>455.000000</td>\n",
       "      <td>1.000000</td>\n",
       "      <td>502.000000</td>\n",
       "      <td>95.000000</td>\n",
       "    </tr>\n",
       "    <tr>\n",
       "      <td>75%</td>\n",
       "      <td>14.000000</td>\n",
       "      <td>6.800000e+06</td>\n",
       "      <td>69.900000</td>\n",
       "      <td>3.000000</td>\n",
       "      <td>2.800000</td>\n",
       "      <td>16.000000</td>\n",
       "      <td>42.300000</td>\n",
       "      <td>8.000000</td>\n",
       "      <td>12.000000</td>\n",
       "      <td>2.000000</td>\n",
       "      <td>37273.000000</td>\n",
       "      <td>16293.000000</td>\n",
       "      <td>1.000000</td>\n",
       "      <td>612.000000</td>\n",
       "      <td>1.000000</td>\n",
       "      <td>729.000000</td>\n",
       "      <td>232.000000</td>\n",
       "    </tr>\n",
       "    <tr>\n",
       "      <td>max</td>\n",
       "      <td>50.000000</td>\n",
       "      <td>7.630000e+08</td>\n",
       "      <td>900.000000</td>\n",
       "      <td>19.000000</td>\n",
       "      <td>100.000000</td>\n",
       "      <td>60.000000</td>\n",
       "      <td>409.700000</td>\n",
       "      <td>33.000000</td>\n",
       "      <td>112.000000</td>\n",
       "      <td>5.000000</td>\n",
       "      <td>84869.000000</td>\n",
       "      <td>65968.000000</td>\n",
       "      <td>3.000000</td>\n",
       "      <td>3190.000000</td>\n",
       "      <td>3.000000</td>\n",
       "      <td>1344.000000</td>\n",
       "      <td>1580.000000</td>\n",
       "    </tr>\n",
       "  </tbody>\n",
       "</table>\n",
       "</div>"
      ],
      "text/plain": [
       "       total_images    last_price    total_area         rooms  ceiling_height  \\\n",
       "count  23699.000000  2.369900e+04  23699.000000  23699.000000    14504.000000   \n",
       "mean       9.858475  6.541549e+06     60.348651      2.070636        2.771499   \n",
       "std        5.682529  1.088701e+07     35.654083      1.078405        1.261056   \n",
       "min        0.000000  1.219000e+04     12.000000      0.000000        1.000000   \n",
       "25%        6.000000  3.400000e+06     40.000000      1.000000        2.520000   \n",
       "50%        9.000000  4.650000e+06     52.000000      2.000000        2.650000   \n",
       "75%       14.000000  6.800000e+06     69.900000      3.000000        2.800000   \n",
       "max       50.000000  7.630000e+08    900.000000     19.000000      100.000000   \n",
       "\n",
       "       floors_total   living_area         floor  kitchen_area       balcony  \\\n",
       "count  23613.000000  21796.000000  23699.000000  21421.000000  12180.000000   \n",
       "mean      10.673824     34.457852      5.892358     10.569807      1.150082   \n",
       "std        6.597173     22.030445      4.885249      5.905438      1.071300   \n",
       "min        1.000000      2.000000      1.000000      1.300000      0.000000   \n",
       "25%        5.000000     18.600000      2.000000      7.000000      0.000000   \n",
       "50%        9.000000     30.000000      4.000000      9.100000      1.000000   \n",
       "75%       16.000000     42.300000      8.000000     12.000000      2.000000   \n",
       "max       60.000000    409.700000     33.000000    112.000000      5.000000   \n",
       "\n",
       "       airports_nearest  cityCenters_nearest  parks_around3000  parks_nearest  \\\n",
       "count      18157.000000         18180.000000      18181.000000    8079.000000   \n",
       "mean       28793.672193         14191.277833          0.611408     490.804555   \n",
       "std        12630.880622          8608.386210          0.802074     342.317995   \n",
       "min            0.000000           181.000000          0.000000       1.000000   \n",
       "25%        18585.000000          9238.000000          0.000000     288.000000   \n",
       "50%        26726.000000         13098.500000          0.000000     455.000000   \n",
       "75%        37273.000000         16293.000000          1.000000     612.000000   \n",
       "max        84869.000000         65968.000000          3.000000    3190.000000   \n",
       "\n",
       "       ponds_around3000  ponds_nearest  days_exposition  \n",
       "count      18181.000000    9110.000000     20518.000000  \n",
       "mean           0.770255     517.980900       180.888634  \n",
       "std            0.938346     277.720643       219.727988  \n",
       "min            0.000000      13.000000         1.000000  \n",
       "25%            0.000000     294.000000        45.000000  \n",
       "50%            1.000000     502.000000        95.000000  \n",
       "75%            1.000000     729.000000       232.000000  \n",
       "max            3.000000    1344.000000      1580.000000  "
      ]
     },
     "execution_count": 3,
     "metadata": {},
     "output_type": "execute_result"
    }
   ],
   "source": [
    "data.info()\n",
    "data.describe()"
   ]
  },
  {
   "cell_type": "markdown",
   "metadata": {},
   "source": [
    "### Вывод"
   ]
  },
  {
   "cell_type": "markdown",
   "metadata": {},
   "source": [
    "В датафрейме отсутсвуют данные в следующих столбцах:\n",
    "- ceiling_height          14504 non-null float64\n",
    "- floors_total            23613 non-null float64\n",
    "- living_area             21796 non-null float64\n",
    "- floor                   23699 non-null int64\n",
    "- is_apartment            2775 non-null object\n",
    "- kitchen_area            21421 non-null float64\n",
    "- balcony                 12180 non-null float64\n",
    "- locality_name           23650 non-null object\n",
    "- airports_nearest        18157 non-null float64\n",
    "- cityCenters_nearest     18180 non-null float64\n",
    "- parks_around3000        18181 non-null float64\n",
    "- parks_nearest           8079 non-null float64\n",
    "- ponds_around3000        18181 non-null float64\n",
    "- ponds_nearest           9110 non-null float64\n",
    "- days_exposition         20518 non-null float64\n",
    "\n",
    "Тип данных можно поменять для следующих столбцов в int:\n",
    "- floors_total (число этажей)\n",
    "- balcony (число балконов)\n",
    "- parks_around3000 (число парков в радиусе 3 км)\n",
    "- ponds_around3000 (число водоёмов в радиусе 3 км)"
   ]
  },
  {
   "cell_type": "markdown",
   "metadata": {},
   "source": [
    "### Шаг 2. Предобработка данных"
   ]
  },
  {
   "cell_type": "markdown",
   "metadata": {},
   "source": [
    "##### Замена пропусков в стоблце балконов на \"0\", потому что они отсутствуют."
   ]
  },
  {
   "cell_type": "code",
   "execution_count": 4,
   "metadata": {},
   "outputs": [
    {
     "data": {
      "text/plain": [
       "0.0    15277\n",
       "1.0     4195\n",
       "2.0     3659\n",
       "5.0      304\n",
       "4.0      183\n",
       "3.0       81\n",
       "Name: balcony, dtype: int64"
      ]
     },
     "metadata": {},
     "output_type": "display_data"
    },
    {
     "data": {
      "text/html": [
       "<div>\n",
       "<style scoped>\n",
       "    .dataframe tbody tr th:only-of-type {\n",
       "        vertical-align: middle;\n",
       "    }\n",
       "\n",
       "    .dataframe tbody tr th {\n",
       "        vertical-align: top;\n",
       "    }\n",
       "\n",
       "    .dataframe thead th {\n",
       "        text-align: right;\n",
       "    }\n",
       "</style>\n",
       "<table border=\"1\" class=\"dataframe\">\n",
       "  <thead>\n",
       "    <tr style=\"text-align: right;\">\n",
       "      <th></th>\n",
       "      <th>total_images</th>\n",
       "      <th>last_price</th>\n",
       "      <th>total_area</th>\n",
       "      <th>first_day_exposition</th>\n",
       "      <th>rooms</th>\n",
       "      <th>ceiling_height</th>\n",
       "      <th>floors_total</th>\n",
       "      <th>living_area</th>\n",
       "      <th>floor</th>\n",
       "      <th>is_apartment</th>\n",
       "      <th>...</th>\n",
       "      <th>kitchen_area</th>\n",
       "      <th>balcony</th>\n",
       "      <th>locality_name</th>\n",
       "      <th>airports_nearest</th>\n",
       "      <th>cityCenters_nearest</th>\n",
       "      <th>parks_around3000</th>\n",
       "      <th>parks_nearest</th>\n",
       "      <th>ponds_around3000</th>\n",
       "      <th>ponds_nearest</th>\n",
       "      <th>days_exposition</th>\n",
       "    </tr>\n",
       "  </thead>\n",
       "  <tbody>\n",
       "    <tr>\n",
       "      <td>0</td>\n",
       "      <td>20</td>\n",
       "      <td>13000000.0</td>\n",
       "      <td>108.00</td>\n",
       "      <td>2019-03-07T00:00:00</td>\n",
       "      <td>3</td>\n",
       "      <td>2.70</td>\n",
       "      <td>16.0</td>\n",
       "      <td>51.00</td>\n",
       "      <td>8</td>\n",
       "      <td>NaN</td>\n",
       "      <td>...</td>\n",
       "      <td>25.00</td>\n",
       "      <td>0.0</td>\n",
       "      <td>Санкт-Петербург</td>\n",
       "      <td>18863.0</td>\n",
       "      <td>16028.0</td>\n",
       "      <td>1.0</td>\n",
       "      <td>482.0</td>\n",
       "      <td>2.0</td>\n",
       "      <td>755.0</td>\n",
       "      <td>NaN</td>\n",
       "    </tr>\n",
       "    <tr>\n",
       "      <td>1</td>\n",
       "      <td>7</td>\n",
       "      <td>3350000.0</td>\n",
       "      <td>40.40</td>\n",
       "      <td>2018-12-04T00:00:00</td>\n",
       "      <td>1</td>\n",
       "      <td>NaN</td>\n",
       "      <td>11.0</td>\n",
       "      <td>18.60</td>\n",
       "      <td>1</td>\n",
       "      <td>NaN</td>\n",
       "      <td>...</td>\n",
       "      <td>11.00</td>\n",
       "      <td>2.0</td>\n",
       "      <td>посёлок Шушары</td>\n",
       "      <td>12817.0</td>\n",
       "      <td>18603.0</td>\n",
       "      <td>0.0</td>\n",
       "      <td>NaN</td>\n",
       "      <td>0.0</td>\n",
       "      <td>NaN</td>\n",
       "      <td>81.0</td>\n",
       "    </tr>\n",
       "    <tr>\n",
       "      <td>2</td>\n",
       "      <td>10</td>\n",
       "      <td>5196000.0</td>\n",
       "      <td>56.00</td>\n",
       "      <td>2015-08-20T00:00:00</td>\n",
       "      <td>2</td>\n",
       "      <td>NaN</td>\n",
       "      <td>5.0</td>\n",
       "      <td>34.30</td>\n",
       "      <td>4</td>\n",
       "      <td>NaN</td>\n",
       "      <td>...</td>\n",
       "      <td>8.30</td>\n",
       "      <td>0.0</td>\n",
       "      <td>Санкт-Петербург</td>\n",
       "      <td>21741.0</td>\n",
       "      <td>13933.0</td>\n",
       "      <td>1.0</td>\n",
       "      <td>90.0</td>\n",
       "      <td>2.0</td>\n",
       "      <td>574.0</td>\n",
       "      <td>558.0</td>\n",
       "    </tr>\n",
       "    <tr>\n",
       "      <td>3</td>\n",
       "      <td>0</td>\n",
       "      <td>64900000.0</td>\n",
       "      <td>159.00</td>\n",
       "      <td>2015-07-24T00:00:00</td>\n",
       "      <td>3</td>\n",
       "      <td>NaN</td>\n",
       "      <td>14.0</td>\n",
       "      <td>NaN</td>\n",
       "      <td>9</td>\n",
       "      <td>NaN</td>\n",
       "      <td>...</td>\n",
       "      <td>NaN</td>\n",
       "      <td>0.0</td>\n",
       "      <td>Санкт-Петербург</td>\n",
       "      <td>28098.0</td>\n",
       "      <td>6800.0</td>\n",
       "      <td>2.0</td>\n",
       "      <td>84.0</td>\n",
       "      <td>3.0</td>\n",
       "      <td>234.0</td>\n",
       "      <td>424.0</td>\n",
       "    </tr>\n",
       "    <tr>\n",
       "      <td>4</td>\n",
       "      <td>2</td>\n",
       "      <td>10000000.0</td>\n",
       "      <td>100.00</td>\n",
       "      <td>2018-06-19T00:00:00</td>\n",
       "      <td>2</td>\n",
       "      <td>3.03</td>\n",
       "      <td>14.0</td>\n",
       "      <td>32.00</td>\n",
       "      <td>13</td>\n",
       "      <td>NaN</td>\n",
       "      <td>...</td>\n",
       "      <td>41.00</td>\n",
       "      <td>0.0</td>\n",
       "      <td>Санкт-Петербург</td>\n",
       "      <td>31856.0</td>\n",
       "      <td>8098.0</td>\n",
       "      <td>2.0</td>\n",
       "      <td>112.0</td>\n",
       "      <td>1.0</td>\n",
       "      <td>48.0</td>\n",
       "      <td>121.0</td>\n",
       "    </tr>\n",
       "    <tr>\n",
       "      <td>5</td>\n",
       "      <td>10</td>\n",
       "      <td>2890000.0</td>\n",
       "      <td>30.40</td>\n",
       "      <td>2018-09-10T00:00:00</td>\n",
       "      <td>1</td>\n",
       "      <td>NaN</td>\n",
       "      <td>12.0</td>\n",
       "      <td>14.40</td>\n",
       "      <td>5</td>\n",
       "      <td>NaN</td>\n",
       "      <td>...</td>\n",
       "      <td>9.10</td>\n",
       "      <td>0.0</td>\n",
       "      <td>городской посёлок Янино-1</td>\n",
       "      <td>NaN</td>\n",
       "      <td>NaN</td>\n",
       "      <td>NaN</td>\n",
       "      <td>NaN</td>\n",
       "      <td>NaN</td>\n",
       "      <td>NaN</td>\n",
       "      <td>55.0</td>\n",
       "    </tr>\n",
       "    <tr>\n",
       "      <td>6</td>\n",
       "      <td>6</td>\n",
       "      <td>3700000.0</td>\n",
       "      <td>37.30</td>\n",
       "      <td>2017-11-02T00:00:00</td>\n",
       "      <td>1</td>\n",
       "      <td>NaN</td>\n",
       "      <td>26.0</td>\n",
       "      <td>10.60</td>\n",
       "      <td>6</td>\n",
       "      <td>NaN</td>\n",
       "      <td>...</td>\n",
       "      <td>14.40</td>\n",
       "      <td>1.0</td>\n",
       "      <td>посёлок Парголово</td>\n",
       "      <td>52996.0</td>\n",
       "      <td>19143.0</td>\n",
       "      <td>0.0</td>\n",
       "      <td>NaN</td>\n",
       "      <td>0.0</td>\n",
       "      <td>NaN</td>\n",
       "      <td>155.0</td>\n",
       "    </tr>\n",
       "    <tr>\n",
       "      <td>7</td>\n",
       "      <td>5</td>\n",
       "      <td>7915000.0</td>\n",
       "      <td>71.60</td>\n",
       "      <td>2019-04-18T00:00:00</td>\n",
       "      <td>2</td>\n",
       "      <td>NaN</td>\n",
       "      <td>24.0</td>\n",
       "      <td>NaN</td>\n",
       "      <td>22</td>\n",
       "      <td>NaN</td>\n",
       "      <td>...</td>\n",
       "      <td>18.90</td>\n",
       "      <td>2.0</td>\n",
       "      <td>Санкт-Петербург</td>\n",
       "      <td>23982.0</td>\n",
       "      <td>11634.0</td>\n",
       "      <td>0.0</td>\n",
       "      <td>NaN</td>\n",
       "      <td>0.0</td>\n",
       "      <td>NaN</td>\n",
       "      <td>NaN</td>\n",
       "    </tr>\n",
       "    <tr>\n",
       "      <td>8</td>\n",
       "      <td>20</td>\n",
       "      <td>2900000.0</td>\n",
       "      <td>33.16</td>\n",
       "      <td>2018-05-23T00:00:00</td>\n",
       "      <td>1</td>\n",
       "      <td>NaN</td>\n",
       "      <td>27.0</td>\n",
       "      <td>15.43</td>\n",
       "      <td>26</td>\n",
       "      <td>NaN</td>\n",
       "      <td>...</td>\n",
       "      <td>8.81</td>\n",
       "      <td>0.0</td>\n",
       "      <td>посёлок Мурино</td>\n",
       "      <td>NaN</td>\n",
       "      <td>NaN</td>\n",
       "      <td>NaN</td>\n",
       "      <td>NaN</td>\n",
       "      <td>NaN</td>\n",
       "      <td>NaN</td>\n",
       "      <td>189.0</td>\n",
       "    </tr>\n",
       "    <tr>\n",
       "      <td>9</td>\n",
       "      <td>18</td>\n",
       "      <td>5400000.0</td>\n",
       "      <td>61.00</td>\n",
       "      <td>2017-02-26T00:00:00</td>\n",
       "      <td>3</td>\n",
       "      <td>2.50</td>\n",
       "      <td>9.0</td>\n",
       "      <td>43.60</td>\n",
       "      <td>7</td>\n",
       "      <td>NaN</td>\n",
       "      <td>...</td>\n",
       "      <td>6.50</td>\n",
       "      <td>2.0</td>\n",
       "      <td>Санкт-Петербург</td>\n",
       "      <td>50898.0</td>\n",
       "      <td>15008.0</td>\n",
       "      <td>0.0</td>\n",
       "      <td>NaN</td>\n",
       "      <td>0.0</td>\n",
       "      <td>NaN</td>\n",
       "      <td>289.0</td>\n",
       "    </tr>\n",
       "  </tbody>\n",
       "</table>\n",
       "<p>10 rows × 22 columns</p>\n",
       "</div>"
      ],
      "text/plain": [
       "   total_images  last_price  total_area first_day_exposition  rooms  \\\n",
       "0            20  13000000.0      108.00  2019-03-07T00:00:00      3   \n",
       "1             7   3350000.0       40.40  2018-12-04T00:00:00      1   \n",
       "2            10   5196000.0       56.00  2015-08-20T00:00:00      2   \n",
       "3             0  64900000.0      159.00  2015-07-24T00:00:00      3   \n",
       "4             2  10000000.0      100.00  2018-06-19T00:00:00      2   \n",
       "5            10   2890000.0       30.40  2018-09-10T00:00:00      1   \n",
       "6             6   3700000.0       37.30  2017-11-02T00:00:00      1   \n",
       "7             5   7915000.0       71.60  2019-04-18T00:00:00      2   \n",
       "8            20   2900000.0       33.16  2018-05-23T00:00:00      1   \n",
       "9            18   5400000.0       61.00  2017-02-26T00:00:00      3   \n",
       "\n",
       "   ceiling_height  floors_total  living_area  floor is_apartment  ...  \\\n",
       "0            2.70          16.0        51.00      8          NaN  ...   \n",
       "1             NaN          11.0        18.60      1          NaN  ...   \n",
       "2             NaN           5.0        34.30      4          NaN  ...   \n",
       "3             NaN          14.0          NaN      9          NaN  ...   \n",
       "4            3.03          14.0        32.00     13          NaN  ...   \n",
       "5             NaN          12.0        14.40      5          NaN  ...   \n",
       "6             NaN          26.0        10.60      6          NaN  ...   \n",
       "7             NaN          24.0          NaN     22          NaN  ...   \n",
       "8             NaN          27.0        15.43     26          NaN  ...   \n",
       "9            2.50           9.0        43.60      7          NaN  ...   \n",
       "\n",
       "   kitchen_area  balcony              locality_name  airports_nearest  \\\n",
       "0         25.00      0.0            Санкт-Петербург           18863.0   \n",
       "1         11.00      2.0             посёлок Шушары           12817.0   \n",
       "2          8.30      0.0            Санкт-Петербург           21741.0   \n",
       "3           NaN      0.0            Санкт-Петербург           28098.0   \n",
       "4         41.00      0.0            Санкт-Петербург           31856.0   \n",
       "5          9.10      0.0  городской посёлок Янино-1               NaN   \n",
       "6         14.40      1.0          посёлок Парголово           52996.0   \n",
       "7         18.90      2.0            Санкт-Петербург           23982.0   \n",
       "8          8.81      0.0             посёлок Мурино               NaN   \n",
       "9          6.50      2.0            Санкт-Петербург           50898.0   \n",
       "\n",
       "  cityCenters_nearest  parks_around3000  parks_nearest  ponds_around3000  \\\n",
       "0             16028.0               1.0          482.0               2.0   \n",
       "1             18603.0               0.0            NaN               0.0   \n",
       "2             13933.0               1.0           90.0               2.0   \n",
       "3              6800.0               2.0           84.0               3.0   \n",
       "4              8098.0               2.0          112.0               1.0   \n",
       "5                 NaN               NaN            NaN               NaN   \n",
       "6             19143.0               0.0            NaN               0.0   \n",
       "7             11634.0               0.0            NaN               0.0   \n",
       "8                 NaN               NaN            NaN               NaN   \n",
       "9             15008.0               0.0            NaN               0.0   \n",
       "\n",
       "   ponds_nearest  days_exposition  \n",
       "0          755.0              NaN  \n",
       "1            NaN             81.0  \n",
       "2          574.0            558.0  \n",
       "3          234.0            424.0  \n",
       "4           48.0            121.0  \n",
       "5            NaN             55.0  \n",
       "6            NaN            155.0  \n",
       "7            NaN              NaN  \n",
       "8            NaN            189.0  \n",
       "9            NaN            289.0  \n",
       "\n",
       "[10 rows x 22 columns]"
      ]
     },
     "metadata": {},
     "output_type": "display_data"
    }
   ],
   "source": [
    "data['balcony'] = data['balcony'].fillna(value = 0)\n",
    "\n",
    "display(data['balcony'].value_counts())\n",
    "display(data.head(10))"
   ]
  },
  {
   "cell_type": "markdown",
   "metadata": {},
   "source": [
    "##### Замена пропусков в ceiling_height  на медиану с группировкой locality_name "
   ]
  },
  {
   "cell_type": "code",
   "execution_count": 5,
   "metadata": {},
   "outputs": [
    {
     "data": {
      "text/plain": [
       "2.70     7818\n",
       "2.50     4160\n",
       "2.60     2136\n",
       "2.55     1572\n",
       "2.75     1121\n",
       "         ... \n",
       "2.34        1\n",
       "4.14        1\n",
       "22.60       1\n",
       "4.30        1\n",
       "5.50        1\n",
       "Name: ceiling_height, Length: 195, dtype: int64"
      ]
     },
     "metadata": {},
     "output_type": "display_data"
    }
   ],
   "source": [
    "data['ceiling_height'] = (\n",
    "    data['ceiling_height']\n",
    "    .fillna(data.groupby('locality_name')['ceiling_height'].transform('median'))\n",
    ")\n",
    "display(data['ceiling_height'].value_counts())"
   ]
  },
  {
   "cell_type": "markdown",
   "metadata": {},
   "source": [
    "##### Измененение типа данных balcony"
   ]
  },
  {
   "cell_type": "code",
   "execution_count": 6,
   "metadata": {},
   "outputs": [],
   "source": [
    "data['balcony'] = data['balcony'].astype('int')"
   ]
  },
  {
   "cell_type": "markdown",
   "metadata": {},
   "source": [
    "#### Вывод:\n",
    "1. Выполнена замена пропусков на 0 поменяли тип данных в 'balcony';\n",
    "2. Выполнена замена данных на median в 'ceiling_height';\n"
   ]
  },
  {
   "cell_type": "markdown",
   "metadata": {},
   "source": [
    "### Шаг 3.Расчет и добавление новых данных"
   ]
  },
  {
   "cell_type": "code",
   "execution_count": 7,
   "metadata": {
    "scrolled": false
   },
   "outputs": [
    {
     "data": {
      "text/plain": [
       "0        254901.960784\n",
       "1        180107.526882\n",
       "2        151486.880466\n",
       "3                  NaN\n",
       "4        312500.000000\n",
       "             ...      \n",
       "23694    132332.878581\n",
       "23695     81578.947368\n",
       "23696     84175.084175\n",
       "23697              NaN\n",
       "23698    109756.097561\n",
       "Name: price_squere_meter, Length: 23699, dtype: float64"
      ]
     },
     "metadata": {},
     "output_type": "display_data"
    },
    {
     "data": {
      "text/plain": [
       "33"
      ]
     },
     "metadata": {},
     "output_type": "display_data"
    },
    {
     "name": "stdout",
     "output_type": "stream",
     "text": [
      "другой       17446\n",
      "последний     3336\n",
      "первый        2917\n",
      "Name: new_floor, dtype: int64\n"
     ]
    }
   ],
   "source": [
    "#добавление в таблицу: цена квадратного метра\n",
    "\n",
    "data['price_squere_meter'] = (data['last_price'] / data['living_area'])\n",
    "#data['price_squere_meter'] = data['price_squere_meter'].astype('int')\n",
    "display(data['price_squere_meter'])\n",
    "\n",
    "#добавление в таблицу: день недели, месяц и год публикации объявления\n",
    "\n",
    "data['month_year_exposition'] = pd.to_datetime(data['first_day_exposition'], format='%Y-%m-%dT%H:%M:%S')\n",
    "data['weekday'] = data['month_year_exposition'].dt.weekday\n",
    "data['weekday_name'] = data['month_year_exposition'].dt.day_name()\n",
    "data['month'] = data['month_year_exposition'].dt.month\n",
    "data['month_name'] = data['month_year_exposition'].dt.month_name()\n",
    "data['year'] = data['month_year_exposition'].dt.year\n",
    "\n",
    "\n",
    "#добавление в таблицу: этаж квартиры; варианты — первый, последний, другой\n",
    " \n",
    "display(data['floor'].max())\n",
    "\n",
    "def floor(row):\n",
    "    name_floor = row['floor']\n",
    "    if name_floor == 1:\n",
    "        return \"первый\"\n",
    "    if name_floor == row['floors_total']:\n",
    "        return \"последний\"\n",
    "    return \"другой\"\n",
    "\n",
    "data['new_floor'] = data.apply(floor, axis = 1)\n",
    "print(data['new_floor'].value_counts())\n",
    "\n",
    "\n",
    "\n"
   ]
  },
  {
   "cell_type": "code",
   "execution_count": 8,
   "metadata": {},
   "outputs": [
    {
     "data": {
      "text/plain": [
       "count    23699.000000\n",
       "mean        60.348651\n",
       "std         35.654083\n",
       "min         12.000000\n",
       "25%         40.000000\n",
       "50%         52.000000\n",
       "75%         69.900000\n",
       "max        900.000000\n",
       "Name: total_area, dtype: float64"
      ]
     },
     "metadata": {},
     "output_type": "display_data"
    },
    {
     "data": {
      "image/png": "[encoded data removed]",
      "text/plain": [
       "<Figure size 360x216 with 1 Axes>"
      ]
     },
     "metadata": {
      "needs_background": "light"
     },
     "output_type": "display_data"
    },
    {
     "data": {
      "text/plain": [
       "count    2.369900e+04\n",
       "mean     6.541549e+06\n",
       "std      1.088701e+07\n",
       "min      1.219000e+04\n",
       "25%      3.400000e+06\n",
       "50%      4.650000e+06\n",
       "75%      6.800000e+06\n",
       "max      7.630000e+08\n",
       "Name: last_price, dtype: float64"
      ]
     },
     "metadata": {},
     "output_type": "display_data"
    },
    {
     "data": {
      "image/png": "[encoded data removed]",
      "text/plain": [
       "<Figure size 360x216 with 1 Axes>"
      ]
     },
     "metadata": {
      "needs_background": "light"
     },
     "output_type": "display_data"
    },
    {
     "data": {
      "text/plain": [
       "count    23699.000000\n",
       "mean         2.070636\n",
       "std          1.078405\n",
       "min          0.000000\n",
       "25%          1.000000\n",
       "50%          2.000000\n",
       "75%          3.000000\n",
       "max         19.000000\n",
       "Name: rooms, dtype: float64"
      ]
     },
     "metadata": {},
     "output_type": "display_data"
    },
    {
     "data": {
      "image/png": "[encoded data removed]",
      "text/plain": [
       "<Figure size 360x216 with 1 Axes>"
      ]
     },
     "metadata": {
      "needs_background": "light"
     },
     "output_type": "display_data"
    },
    {
     "data": {
      "text/plain": [
       "count    23543.000000\n",
       "mean         2.734102\n",
       "std          1.012723\n",
       "min          1.000000\n",
       "25%          2.550000\n",
       "50%          2.700000\n",
       "75%          2.700000\n",
       "max        100.000000\n",
       "Name: ceiling_height, dtype: float64"
      ]
     },
     "metadata": {},
     "output_type": "display_data"
    },
    {
     "data": {
      "image/png": "[encoded data removed]",
      "text/plain": [
       "<Figure size 360x216 with 1 Axes>"
      ]
     },
     "metadata": {
      "needs_background": "light"
     },
     "output_type": "display_data"
    },
    {
     "data": {
      "text/plain": [
       "23699"
      ]
     },
     "metadata": {},
     "output_type": "display_data"
    }
   ],
   "source": [
    "#изучение следующих параметров: площадь, цена, число комнат, высота потолков\n",
    "#и построение гистограммы для каждого параметра\n",
    "\n",
    "#площадь\n",
    "display(data['total_area'].describe())\n",
    "data.plot(y='total_area', kind='hist', grid = True, bins=100,  figsize = (5,3), range = (0,500))\n",
    "plt.title('Общая площадь')\n",
    "plt.xlabel('Количество, шт')\n",
    "plt.ylabel('Площадь, м2')\n",
    "plt.show()\n",
    "\n",
    "#цена\n",
    "display(data['last_price'].describe())\n",
    "data.plot(y='last_price', kind='hist', grid = True, bins=100,  figsize = (5,3), range = (0,50000000))\n",
    "plt.title('Стоимость квартир')\n",
    "plt.xlabel('Стоимость квартиры, руб')\n",
    "plt.ylabel('Количество, шт')\n",
    "plt.show()\n",
    "\n",
    "#число комнат\n",
    "display(data['rooms'].describe())\n",
    "data.plot(y='rooms', kind='hist', grid = True, bins=100,  figsize = (5,3), range = (0,19))\n",
    "plt.title('Число комнат')\n",
    "plt.xlabel('Количество комнат, шт')\n",
    "plt.ylabel('Количество, шт')\n",
    "plt.show()\n",
    "\n",
    "#высота потолков\n",
    "display(data['ceiling_height'].describe())\n",
    "data.plot(y='ceiling_height', kind='hist', grid = True, bins=100,  figsize = (5,3), range = (1,10))\n",
    "plt.title('Высота потолков')\n",
    "plt.xlabel('Высота потолка, м')\n",
    "plt.ylabel('Количество, шт')\n",
    "plt.show()\n",
    "\n",
    "\n",
    "#display(data.pivot_table(index='locality_name', values='total_area'))\n",
    "display(data['total_area'].count())"
   ]
  },
  {
   "cell_type": "code",
   "execution_count": 9,
   "metadata": {},
   "outputs": [
    {
     "data": {
      "text/plain": [
       "total_images                      int64\n",
       "last_price                      float64\n",
       "total_area                      float64\n",
       "first_day_exposition             object\n",
       "rooms                             int64\n",
       "ceiling_height                  float64\n",
       "floors_total                    float64\n",
       "living_area                     float64\n",
       "floor                             int64\n",
       "is_apartment                     object\n",
       "studio                             bool\n",
       "open_plan                          bool\n",
       "kitchen_area                    float64\n",
       "balcony                           int64\n",
       "locality_name                    object\n",
       "airports_nearest                float64\n",
       "cityCenters_nearest             float64\n",
       "parks_around3000                float64\n",
       "parks_nearest                   float64\n",
       "ponds_around3000                float64\n",
       "ponds_nearest                   float64\n",
       "days_exposition                 float64\n",
       "price_squere_meter              float64\n",
       "month_year_exposition    datetime64[ns]\n",
       "weekday                           int64\n",
       "weekday_name                     object\n",
       "month                             int64\n",
       "month_name                       object\n",
       "year                              int64\n",
       "new_floor                        object\n",
       "dtype: object"
      ]
     },
     "execution_count": 9,
     "metadata": {},
     "output_type": "execute_result"
    }
   ],
   "source": [
    "data.dtypes"
   ]
  },
  {
   "cell_type": "markdown",
   "metadata": {},
   "source": [
    "##### Вывод:\n",
    "1. Добавлены следующие столбцы: цена квадратного метраб день недели, месяц и год публикации объявления, этаж квартиры (варианты — первый, последний, другой);\n",
    "2. Параметры (площадь, цена, число комнат, высота потолков) имеют вид нормального распределния."
   ]
  },
  {
   "cell_type": "markdown",
   "metadata": {},
   "source": [
    "### Шаг 4. Исследовательский анализ данных"
   ]
  },
  {
   "cell_type": "markdown",
   "metadata": {},
   "source": [
    "#### 1. Изучение времени продажи"
   ]
  },
  {
   "cell_type": "code",
   "execution_count": 10,
   "metadata": {
    "scrolled": true
   },
   "outputs": [
    {
     "data": {
      "text/plain": [
       "count    20518.000000\n",
       "mean       180.888634\n",
       "std        219.727988\n",
       "min          1.000000\n",
       "25%         45.000000\n",
       "50%         95.000000\n",
       "75%        232.000000\n",
       "max       1580.000000\n",
       "Name: days_exposition, dtype: float64"
      ]
     },
     "metadata": {},
     "output_type": "display_data"
    },
    {
     "data": {
      "text/plain": [
       "'Количество пропусков - 3181.0'"
      ]
     },
     "metadata": {},
     "output_type": "display_data"
    },
    {
     "data": {
      "text/plain": [
       "45.0    880\n",
       "60.0    538\n",
       "7.0     234\n",
       "30.0    208\n",
       "90.0    204\n",
       "       ... \n",
       "78.0     51\n",
       "94.0     49\n",
       "87.0     43\n",
       "2.0       3\n",
       "1.0       1\n",
       "Name: days_exposition, Length: 100, dtype: int64"
      ]
     },
     "metadata": {},
     "output_type": "display_data"
    },
    {
     "data": {
      "image/png": "[encoded data removed]",
      "text/plain": [
       "<Figure size 360x216 with 1 Axes>"
      ]
     },
     "metadata": {
      "needs_background": "light"
     },
     "output_type": "display_data"
    },
    {
     "data": {
      "image/png": "[encoded data removed]",
      "text/plain": [
       "<Figure size 360x216 with 1 Axes>"
      ]
     },
     "metadata": {
      "needs_background": "light"
     },
     "output_type": "display_data"
    },
    {
     "data": {
      "text/plain": [
       "'Процент времени продаж за 513 дней - 91.9 %'"
      ]
     },
     "metadata": {},
     "output_type": "display_data"
    },
    {
     "data": {
      "text/plain": [
       "'Среденее время продажи квартир 180.9 дней'"
      ]
     },
     "metadata": {},
     "output_type": "display_data"
    },
    {
     "data": {
      "text/plain": [
       "'Медиана времени продажи квартир 95.0 дней'"
      ]
     },
     "metadata": {},
     "output_type": "display_data"
    }
   ],
   "source": [
    "display(data['days_exposition'].describe())\n",
    "display(\"Количество пропусков - {:.1f}\".format(data['days_exposition'].isnull().sum())) # отсутвует 3181 значений\n",
    "display(data[data['days_exposition'] <= 100]['days_exposition'].value_counts())\n",
    "\n",
    "# построение ящика с усами\n",
    "#data.boxplot(column='days_exposition') # по графику виден выброс около 550 дней, определим правый ус подборкой \n",
    "#plt.ylim(0, 513) # диапазон выборки от 0 дней до 513 дней, все что больше 513 дней- дошгие продажи\n",
    "\n",
    "\n",
    "#построение графиков для всего диапазона и для \"ящика\" \n",
    "data.plot(y='days_exposition', kind='hist', grid = True, bins=200,  figsize = (5,3), range = (0,1580))\n",
    "plt.title('Диапазон времени продажи квартртир до 1580 дней ')\n",
    "plt.xlabel('Количество дней')\n",
    "plt.ylabel('Количество, шт')\n",
    "plt.show()\n",
    "data.plot(y='days_exposition', kind='hist', grid = True, bins=100,  figsize = (5,3), range = (1,232))\n",
    "plt.title('Диапазон времени продажи квартртир до 232 дней ')\n",
    "plt.xlabel('Количество дней')\n",
    "plt.ylabel('Количество, шт')\n",
    "plt.show()\n",
    "\n",
    "#процент количества продаж до 513 дней\n",
    "percent_days = data[data['days_exposition'] <= 513]['days_exposition'].count()/data['days_exposition'].count()*100\n",
    "display(\"Процент времени продаж за 513 дней - {:.1f} %\".format(percent_days))\n",
    "\n",
    "\n",
    "#расчет медианы и среднего времени продаж квартир\n",
    "display('Среденее время продажи квартир {:.1f} дней'.format(data['days_exposition'].mean()))\n",
    "display('Медиана времени продажи квартир {:.1f} дней'.format(data['days_exposition'].median()))"
   ]
  },
  {
   "cell_type": "markdown",
   "metadata": {},
   "source": [
    "##### Вывод:\n",
    "1. Аномальное время продажи квартир (количество дней) - 7, 30, 45, 60, 90.\n",
    "2. Количество квардир проданных 513 дней стоставляет 91.9 % от всех продаж.\n",
    "3. Среденее время продажи квартир 180.9 дней.\n",
    "4. Медиана времени продажи квартир 95.0 дней.\n",
    "5. Предлагаю, что квартиры продающийся более 513 дней, будут считаться долгими."
   ]
  },
  {
   "cell_type": "markdown",
   "metadata": {},
   "source": [
    "### Удаление редких и выбивающиеся значений"
   ]
  },
  {
   "cell_type": "code",
   "execution_count": 11,
   "metadata": {},
   "outputs": [
    {
     "data": {
      "image/png": "[encoded data removed]",
      "text/plain": [
       "<Figure size 432x288 with 1 Axes>"
      ]
     },
     "metadata": {
      "needs_background": "light"
     },
     "output_type": "display_data"
    },
    {
     "data": {
      "image/png": "[encoded data removed]",
      "text/plain": [
       "<Figure size 432x288 with 1 Axes>"
      ]
     },
     "metadata": {
      "needs_background": "light"
     },
     "output_type": "display_data"
    },
    {
     "data": {
      "image/png": "[encoded data removed]",
      "text/plain": [
       "<Figure size 432x288 with 1 Axes>"
      ]
     },
     "metadata": {
      "needs_background": "light"
     },
     "output_type": "display_data"
    },
    {
     "data": {
      "text/plain": [
       "'Процент времени продаж за 513 дней - 70.8 %'"
      ]
     },
     "metadata": {},
     "output_type": "display_data"
    },
    {
     "data": {
      "text/plain": [
       "'Среденее время продажи квартир 195.8 дней'"
      ]
     },
     "metadata": {},
     "output_type": "display_data"
    },
    {
     "data": {
      "text/plain": [
       "'Медиана времени продажи квартир 114.0 дней'"
      ]
     },
     "metadata": {},
     "output_type": "display_data"
    }
   ],
   "source": [
    "#получение нового датафрейма days_data без редких и выбивающихся данных\n",
    "days_data = data.query('days_exposition != (7, 30, 45.0, 60, 90)') # остаются значения 45 и 90\n",
    "\n",
    "# выполним замену пропусков на \"9999\" для перевода формата int\n",
    "data['days_exposition'] = data['days_exposition'].fillna(value = 0).astype('int')\n",
    "\n",
    "#повторное получение нового датафрейма days_data без редких и выбивающихся данных\n",
    "days_data = data.query('days_exposition != (0, 7, 30, 45.0, 60, 90)') # все получилось\n",
    "\n",
    "#диаграмма размаха для нового days_data\n",
    "days_data.boxplot(column='days_exposition')\n",
    "plt.ylim(1,1000)\n",
    "plt.show()\n",
    "\n",
    "#гистограммы\n",
    "days_data.plot(y = 'days_exposition', kind = 'hist', bins = 30, grid = True, range = (0,1580))\n",
    "plt.title('Количество дней продажи квартир')\n",
    "plt.xlabel('Количество дней')\n",
    "plt.ylabel('Количество, шт')\n",
    "plt.show()\n",
    "\n",
    "days_data.plot(y = 'days_exposition', kind = 'hist', bins = 100, grid = True, range = (0,259))\n",
    "plt.title('Количество дней продажи квартир')\n",
    "plt.xlabel('Количество дней')\n",
    "plt.ylabel('Количество, шт')\n",
    "plt.show()\n",
    "\n",
    "#Числовое описание данных для 'days_exposition'\n",
    "days_data['days_exposition'].describe()\n",
    "\n",
    "#процент количества продаж до 600 дней\n",
    "percent_days = days_data[days_data['days_exposition'] <= 513]['days_exposition'].count()/data['days_exposition'].count()*100\n",
    "display(\"Процент времени продаж за 513 дней - {:.1f} %\".format(percent_days))\n",
    "\n",
    "#расчет медианы и среднего времени продаж квартир\n",
    "display('Среденее время продажи квартир {:.1f} дней'.format(days_data['days_exposition'].mean()))\n",
    "display('Медиана времени продажи квартир {:.1f} дней'.format(days_data['days_exposition'].median()))"
   ]
  },
  {
   "cell_type": "markdown",
   "metadata": {},
   "source": [
    "##### Вывод:\n",
    "1. Среднее время продажа квартир и медиана уменьшилась после очистки days_data от аномалий"
   ]
  },
  {
   "cell_type": "markdown",
   "metadata": {},
   "source": [
    "### Определение факторов влияющие на стоимость квартир"
   ]
  },
  {
   "cell_type": "markdown",
   "metadata": {},
   "source": [
    "##### Зависимость цены от квадратного метра, числа комнат, этажа (первого или последнего), удалённости от центра. \n"
   ]
  },
  {
   "cell_type": "code",
   "execution_count": 12,
   "metadata": {},
   "outputs": [
    {
     "name": "stdout",
     "output_type": "stream",
     "text": [
      "Коэффициент корреляции Пирсона цены от общей площади 0.1\n"
     ]
    },
    {
     "data": {
      "image/png": "[encoded data removed]",
      "text/plain": [
       "<Figure size 432x288 with 1 Axes>"
      ]
     },
     "metadata": {
      "needs_background": "light"
     },
     "output_type": "display_data"
    }
   ],
   "source": [
    "#Вычисление коэффициента корреляции Пирсона для price_squere_meter и 'total_area'\n",
    "print('Коэффициент корреляции Пирсона цены от общей площади {:.1f}'.format(days_data['price_squere_meter'].corr(days_data['total_area'])))\n",
    "squere_meter_area = days_data.pivot_table(index='total_area', values='price_squere_meter', aggfunc='median')\n",
    "squere_meter_area.columns = ['median']\n",
    "squere_meter_area.plot(y='median', style = 'o', alpha=0.3, sharex=True, grid=True)\n",
    "plt.show()"
   ]
  },
  {
   "cell_type": "code",
   "execution_count": 13,
   "metadata": {},
   "outputs": [
    {
     "name": "stdout",
     "output_type": "stream",
     "text": [
      "Коэффициент корреляции Пирсона цены от количества комнат -0.1\n"
     ]
    },
    {
     "data": {
      "image/png": "[encoded data removed]",
      "text/plain": [
       "<Figure size 432x288 with 1 Axes>"
      ]
     },
     "metadata": {
      "needs_background": "light"
     },
     "output_type": "display_data"
    }
   ],
   "source": [
    "#Вычисление коэффициента корреляции Пирсона для last_price и 'rooms'\n",
    "print('Коэффициент корреляции Пирсона цены от количества комнат {:.1f}'.format(days_data['price_squere_meter'].corr(days_data['rooms'])))\n",
    "squere_meter_rooms = days_data.pivot_table(index='rooms', values='price_squere_meter', aggfunc='median')\n",
    "squere_meter_rooms.columns = ['median']\n",
    "squere_meter_rooms.plot(y='median', style = 'o', alpha=0.3, sharex=True, grid=True)\n",
    "plt.show()"
   ]
  },
  {
   "cell_type": "code",
   "execution_count": 14,
   "metadata": {},
   "outputs": [
    {
     "name": "stdout",
     "output_type": "stream",
     "text": [
      "Коэффициент корреляции Пирсона цены от этажа 0.1\n"
     ]
    },
    {
     "data": {
      "image/png": "[encoded data removed]",
      "text/plain": [
       "<Figure size 432x288 with 1 Axes>"
      ]
     },
     "metadata": {
      "needs_background": "light"
     },
     "output_type": "display_data"
    }
   ],
   "source": [
    "#Вычисление коэффициента корреляции Пирсона для last_price и 'new_floor'\n",
    "#коэффициент кореляции Пиросна не работает с форматом str, поэтому рассмотрим хотя бы от 'floor'\n",
    "print('Коэффициент корреляции Пирсона цены от этажа {:.1f}'.format(days_data['price_squere_meter'].corr(days_data['floor'])))\n",
    "squere_meter_floor = days_data.pivot_table(index='new_floor', values='price_squere_meter', aggfunc='median')\n",
    "squere_meter_floor.columns = ['median']\n",
    "squere_meter_floor.plot(y='median')\n",
    "plt.show()"
   ]
  },
  {
   "cell_type": "code",
   "execution_count": 15,
   "metadata": {},
   "outputs": [
    {
     "name": "stdout",
     "output_type": "stream",
     "text": [
      "Коэффициент корреляции Пирсона цены от удаленности от центра -0.1\n"
     ]
    },
    {
     "data": {
      "image/png": "[encoded data removed]",
      "text/plain": [
       "<Figure size 432x288 with 1 Axes>"
      ]
     },
     "metadata": {
      "needs_background": "light"
     },
     "output_type": "display_data"
    }
   ],
   "source": [
    "#Вычисление коэффициента корреляции Пирсона для last_price и 'cityCenters_nearest'\n",
    "print('Коэффициент корреляции Пирсона цены от удаленности от центра {:.1f}'.format(days_data['price_squere_meter'].corr(days_data['cityCenters_nearest'])))\n",
    "squere_meter_city = days_data.pivot_table(index='cityCenters_nearest', values='price_squere_meter', aggfunc='median')\n",
    "squere_meter_city.columns = ['median']\n",
    "squere_meter_city.plot(y='median', style = 'o', alpha=0.3, sharex=True, grid=True)\n",
    "plt.show()"
   ]
  },
  {
   "cell_type": "markdown",
   "metadata": {},
   "source": [
    "##### Зависимость цены от даты размещения: дня недели, месяца и года."
   ]
  },
  {
   "cell_type": "code",
   "execution_count": 16,
   "metadata": {},
   "outputs": [
    {
     "name": "stdout",
     "output_type": "stream",
     "text": [
      "Коэффициент корреляции Пирсона цены от дня недели -0.0\n"
     ]
    },
    {
     "data": {
      "image/png": "[encoded data removed]",
      "text/plain": [
       "<Figure size 432x288 with 1 Axes>"
      ]
     },
     "metadata": {
      "needs_background": "light"
     },
     "output_type": "display_data"
    },
    {
     "data": {
      "text/html": [
       "<div>\n",
       "<style scoped>\n",
       "    .dataframe tbody tr th:only-of-type {\n",
       "        vertical-align: middle;\n",
       "    }\n",
       "\n",
       "    .dataframe tbody tr th {\n",
       "        vertical-align: top;\n",
       "    }\n",
       "\n",
       "    .dataframe thead th {\n",
       "        text-align: right;\n",
       "    }\n",
       "</style>\n",
       "<table border=\"1\" class=\"dataframe\">\n",
       "  <thead>\n",
       "    <tr style=\"text-align: right;\">\n",
       "      <th></th>\n",
       "      <th>mean</th>\n",
       "      <th>count</th>\n",
       "      <th>median</th>\n",
       "    </tr>\n",
       "    <tr>\n",
       "      <th>weekday_name</th>\n",
       "      <th></th>\n",
       "      <th></th>\n",
       "      <th></th>\n",
       "    </tr>\n",
       "  </thead>\n",
       "  <tbody>\n",
       "    <tr>\n",
       "      <td>Monday</td>\n",
       "      <td>186298.334694</td>\n",
       "      <td>2598</td>\n",
       "      <td>170184.917010</td>\n",
       "    </tr>\n",
       "    <tr>\n",
       "      <td>Wednesday</td>\n",
       "      <td>183411.455199</td>\n",
       "      <td>2865</td>\n",
       "      <td>168141.592920</td>\n",
       "    </tr>\n",
       "    <tr>\n",
       "      <td>Friday</td>\n",
       "      <td>183160.372057</td>\n",
       "      <td>3017</td>\n",
       "      <td>167441.860465</td>\n",
       "    </tr>\n",
       "    <tr>\n",
       "      <td>Thursday</td>\n",
       "      <td>187092.723299</td>\n",
       "      <td>3240</td>\n",
       "      <td>166666.666667</td>\n",
       "    </tr>\n",
       "    <tr>\n",
       "      <td>Tuesday</td>\n",
       "      <td>193226.197358</td>\n",
       "      <td>3078</td>\n",
       "      <td>166666.666667</td>\n",
       "    </tr>\n",
       "    <tr>\n",
       "      <td>Sunday</td>\n",
       "      <td>182965.260417</td>\n",
       "      <td>1195</td>\n",
       "      <td>165975.103734</td>\n",
       "    </tr>\n",
       "    <tr>\n",
       "      <td>Saturday</td>\n",
       "      <td>186000.539579</td>\n",
       "      <td>1367</td>\n",
       "      <td>165316.045381</td>\n",
       "    </tr>\n",
       "  </tbody>\n",
       "</table>\n",
       "</div>"
      ],
      "text/plain": [
       "                       mean  count         median\n",
       "weekday_name                                     \n",
       "Monday        186298.334694   2598  170184.917010\n",
       "Wednesday     183411.455199   2865  168141.592920\n",
       "Friday        183160.372057   3017  167441.860465\n",
       "Thursday      187092.723299   3240  166666.666667\n",
       "Tuesday       193226.197358   3078  166666.666667\n",
       "Sunday        182965.260417   1195  165975.103734\n",
       "Saturday      186000.539579   1367  165316.045381"
      ]
     },
     "metadata": {},
     "output_type": "display_data"
    }
   ],
   "source": [
    "#Вычисление коэффициента корреляции Пирсона для price_squere_meter и 'weekday'\n",
    "print('Коэффициент корреляции Пирсона цены от дня недели {:.1f}'.format(days_data['price_squere_meter'].corr(days_data['weekday'])))\n",
    "squere_meter_weekday = days_data.pivot_table(index='weekday_name', values='price_squere_meter', aggfunc=['mean', 'count', 'median'])\n",
    "squere_meter_weekday.columns = ['mean', 'count', 'median']\n",
    "squere_meter_weekday.sort_values('median', ascending = False).plot(y='median', style = 'o', sharex=True, grid=True)\n",
    "plt.show()\n",
    "display(squere_meter_weekday.sort_values('median', ascending = False))\n"
   ]
  },
  {
   "cell_type": "code",
   "execution_count": 17,
   "metadata": {},
   "outputs": [
    {
     "name": "stdout",
     "output_type": "stream",
     "text": [
      "Коэффициент корреляции Пирсона цены от месяца 0.0\n"
     ]
    },
    {
     "data": {
      "image/png": "[encoded data removed]",
      "text/plain": [
       "<Figure size 864x288 with 1 Axes>"
      ]
     },
     "metadata": {
      "needs_background": "light"
     },
     "output_type": "display_data"
    },
    {
     "data": {
      "text/html": [
       "<div>\n",
       "<style scoped>\n",
       "    .dataframe tbody tr th:only-of-type {\n",
       "        vertical-align: middle;\n",
       "    }\n",
       "\n",
       "    .dataframe tbody tr th {\n",
       "        vertical-align: top;\n",
       "    }\n",
       "\n",
       "    .dataframe thead th {\n",
       "        text-align: right;\n",
       "    }\n",
       "</style>\n",
       "<table border=\"1\" class=\"dataframe\">\n",
       "  <thead>\n",
       "    <tr style=\"text-align: right;\">\n",
       "      <th></th>\n",
       "      <th>mean</th>\n",
       "      <th>count</th>\n",
       "      <th>median</th>\n",
       "    </tr>\n",
       "    <tr>\n",
       "      <th>month_name</th>\n",
       "      <th></th>\n",
       "      <th></th>\n",
       "      <th></th>\n",
       "    </tr>\n",
       "  </thead>\n",
       "  <tbody>\n",
       "    <tr>\n",
       "      <td>January</td>\n",
       "      <td>189535.638498</td>\n",
       "      <td>1051</td>\n",
       "      <td>174008.810573</td>\n",
       "    </tr>\n",
       "    <tr>\n",
       "      <td>September</td>\n",
       "      <td>189874.647248</td>\n",
       "      <td>1614</td>\n",
       "      <td>173157.804016</td>\n",
       "    </tr>\n",
       "    <tr>\n",
       "      <td>December</td>\n",
       "      <td>190714.197375</td>\n",
       "      <td>1111</td>\n",
       "      <td>170000.000000</td>\n",
       "    </tr>\n",
       "    <tr>\n",
       "      <td>August</td>\n",
       "      <td>184498.047500</td>\n",
       "      <td>1379</td>\n",
       "      <td>169398.907104</td>\n",
       "    </tr>\n",
       "    <tr>\n",
       "      <td>October</td>\n",
       "      <td>182394.797354</td>\n",
       "      <td>1705</td>\n",
       "      <td>168965.517241</td>\n",
       "    </tr>\n",
       "    <tr>\n",
       "      <td>November</td>\n",
       "      <td>194427.710004</td>\n",
       "      <td>1877</td>\n",
       "      <td>168067.226891</td>\n",
       "    </tr>\n",
       "    <tr>\n",
       "      <td>May</td>\n",
       "      <td>184025.527212</td>\n",
       "      <td>990</td>\n",
       "      <td>166666.666667</td>\n",
       "    </tr>\n",
       "    <tr>\n",
       "      <td>February</td>\n",
       "      <td>185485.309591</td>\n",
       "      <td>1882</td>\n",
       "      <td>166129.032258</td>\n",
       "    </tr>\n",
       "    <tr>\n",
       "      <td>July</td>\n",
       "      <td>186652.854214</td>\n",
       "      <td>1325</td>\n",
       "      <td>166129.032258</td>\n",
       "    </tr>\n",
       "    <tr>\n",
       "      <td>June</td>\n",
       "      <td>183311.189594</td>\n",
       "      <td>1420</td>\n",
       "      <td>164048.646342</td>\n",
       "    </tr>\n",
       "    <tr>\n",
       "      <td>April</td>\n",
       "      <td>187183.273307</td>\n",
       "      <td>1342</td>\n",
       "      <td>163917.549099</td>\n",
       "    </tr>\n",
       "    <tr>\n",
       "      <td>March</td>\n",
       "      <td>179046.430793</td>\n",
       "      <td>1664</td>\n",
       "      <td>162053.001277</td>\n",
       "    </tr>\n",
       "  </tbody>\n",
       "</table>\n",
       "</div>"
      ],
      "text/plain": [
       "                     mean  count         median\n",
       "month_name                                     \n",
       "January     189535.638498   1051  174008.810573\n",
       "September   189874.647248   1614  173157.804016\n",
       "December    190714.197375   1111  170000.000000\n",
       "August      184498.047500   1379  169398.907104\n",
       "October     182394.797354   1705  168965.517241\n",
       "November    194427.710004   1877  168067.226891\n",
       "May         184025.527212    990  166666.666667\n",
       "February    185485.309591   1882  166129.032258\n",
       "July        186652.854214   1325  166129.032258\n",
       "June        183311.189594   1420  164048.646342\n",
       "April       187183.273307   1342  163917.549099\n",
       "March       179046.430793   1664  162053.001277"
      ]
     },
     "metadata": {},
     "output_type": "display_data"
    }
   ],
   "source": [
    "#Вычисление коэффициента корреляции Пирсона для price_squere_meter и 'month'\n",
    "print('Коэффициент корреляции Пирсона цены от месяца {:.1f}'.format(days_data['price_squere_meter'].corr(days_data['month'])))\n",
    "squere_meter_month = days_data.pivot_table(index='month_name', values='price_squere_meter', aggfunc=['mean', 'count', 'median'])\n",
    "squere_meter_month.columns = ['mean', 'count', 'median']\n",
    "(\n",
    "    squere_meter_month.sort_values('median', ascending = False)\n",
    "    .plot(y='median', style = 'o', grid=True, xlim=(0, 9), figsize=(12, 4))\n",
    ")\n",
    "plt.show() #не получается вывести все месяцы\n",
    "display(squere_meter_month.sort_values('median', ascending = False))"
   ]
  },
  {
   "cell_type": "code",
   "execution_count": 18,
   "metadata": {},
   "outputs": [
    {
     "name": "stdout",
     "output_type": "stream",
     "text": [
      "Коэффициент корреляции Пирсона цены от года -0.0\n"
     ]
    },
    {
     "data": {
      "image/png": "[encoded data removed]",
      "text/plain": [
       "<Figure size 432x288 with 1 Axes>"
      ]
     },
     "metadata": {
      "needs_background": "light"
     },
     "output_type": "display_data"
    },
    {
     "data": {
      "text/html": [
       "<div>\n",
       "<style scoped>\n",
       "    .dataframe tbody tr th:only-of-type {\n",
       "        vertical-align: middle;\n",
       "    }\n",
       "\n",
       "    .dataframe tbody tr th {\n",
       "        vertical-align: top;\n",
       "    }\n",
       "\n",
       "    .dataframe thead th {\n",
       "        text-align: right;\n",
       "    }\n",
       "</style>\n",
       "<table border=\"1\" class=\"dataframe\">\n",
       "  <thead>\n",
       "    <tr style=\"text-align: right;\">\n",
       "      <th></th>\n",
       "      <th>mean</th>\n",
       "      <th>count</th>\n",
       "      <th>median</th>\n",
       "    </tr>\n",
       "    <tr>\n",
       "      <th>year</th>\n",
       "      <th></th>\n",
       "      <th></th>\n",
       "      <th></th>\n",
       "    </tr>\n",
       "  </thead>\n",
       "  <tbody>\n",
       "    <tr>\n",
       "      <td>2014</td>\n",
       "      <td>225948.381831</td>\n",
       "      <td>112</td>\n",
       "      <td>192803.088803</td>\n",
       "    </tr>\n",
       "    <tr>\n",
       "      <td>2019</td>\n",
       "      <td>197705.362662</td>\n",
       "      <td>870</td>\n",
       "      <td>184366.270950</td>\n",
       "    </tr>\n",
       "    <tr>\n",
       "      <td>2018</td>\n",
       "      <td>185343.445817</td>\n",
       "      <td>6018</td>\n",
       "      <td>172009.174312</td>\n",
       "    </tr>\n",
       "    <tr>\n",
       "      <td>2017</td>\n",
       "      <td>183508.884646</td>\n",
       "      <td>6820</td>\n",
       "      <td>165259.209745</td>\n",
       "    </tr>\n",
       "    <tr>\n",
       "      <td>2015</td>\n",
       "      <td>208068.955013</td>\n",
       "      <td>1058</td>\n",
       "      <td>161860.510155</td>\n",
       "    </tr>\n",
       "    <tr>\n",
       "      <td>2016</td>\n",
       "      <td>181923.581401</td>\n",
       "      <td>2482</td>\n",
       "      <td>160798.783236</td>\n",
       "    </tr>\n",
       "  </tbody>\n",
       "</table>\n",
       "</div>"
      ],
      "text/plain": [
       "               mean  count         median\n",
       "year                                     \n",
       "2014  225948.381831    112  192803.088803\n",
       "2019  197705.362662    870  184366.270950\n",
       "2018  185343.445817   6018  172009.174312\n",
       "2017  183508.884646   6820  165259.209745\n",
       "2015  208068.955013   1058  161860.510155\n",
       "2016  181923.581401   2482  160798.783236"
      ]
     },
     "metadata": {},
     "output_type": "display_data"
    }
   ],
   "source": [
    "#Вычисление коэффициента корреляции Пирсона для price_squere_meter и 'year'\n",
    "print('Коэффициент корреляции Пирсона цены от года {:.1f}'.format(days_data['price_squere_meter'].corr(days_data['year'])))\n",
    "squere_meter_year = days_data.pivot_table(index='year', values='price_squere_meter', aggfunc=['mean', 'count', 'median'])\n",
    "squere_meter_year.columns = ['mean', 'count', 'median']\n",
    "(\n",
    "    squere_meter_year.sort_values('median', ascending = False)\n",
    "    .plot(y='median', style = 'o', grid=True)\n",
    ")\n",
    "plt.show() \n",
    "display(squere_meter_year.sort_values('median', ascending = False))"
   ]
  },
  {
   "cell_type": "markdown",
   "metadata": {},
   "source": [
    "#### Вывод\n",
    "1. Факторы влияющие на стоиомсть квартиры по коээфициенту корреляции Пирсона не обнаружен;\n",
    "2. По графику цена квадратного метра от этажа квартиры (первый, последний и другой) видно, что стоимость последнего этажа дороже первого, но другие этажи дороже последних этажей;\n",
    "3. Высокая стоимость квадратного метра квартиры в понедельник и в январе, возможно связано оптимистичным настроением людей."
   ]
  },
  {
   "cell_type": "markdown",
   "metadata": {},
   "source": [
    "### Вычисление 10 населённых пунктов с наибольшим числом объявлений"
   ]
  },
  {
   "cell_type": "code",
   "execution_count": 19,
   "metadata": {},
   "outputs": [
    {
     "name": "stdout",
     "output_type": "stream",
     "text": [
      "                   count           mean\n",
      "Санкт-Петербург    11714  211784.432043\n",
      "посёлок Мурино       423  177472.166309\n",
      "посёлок Шушары       339  156354.972134\n",
      "Всеволожск           297  134225.805559\n",
      "Колпино              270  131621.215675\n",
      "Пушкин               266  191537.405545\n",
      "посёлок Парголово    247  201783.199788\n",
      "деревня Кудрово      243  188057.846212\n",
      "Гатчина              233  119868.272147\n",
      "Петергоф             159  145486.258309\n"
     ]
    },
    {
     "name": "stderr",
     "output_type": "stream",
     "text": [
      "/opt/conda/lib/python3.7/site-packages/pandas/core/reshape/pivot.py:56: FutureWarning: Sorting because non-concatenation axis is not aligned. A future version\n",
      "of pandas will change to not sort by default.\n",
      "\n",
      "To accept the future behavior, pass 'sort=False'.\n",
      "\n",
      "To retain the current behavior and silence the warning, pass 'sort=True'.\n",
      "\n",
      "  return concat(pieces, keys=keys, axis=1)\n"
     ]
    }
   ],
   "source": [
    "#Сводная таблиц населённых пунктов\n",
    "squere_meter_locality = days_data.pivot_table(index='locality_name', values='price_squere_meter', aggfunc=[\"count\", 'mean'])\n",
    "squere_meter_locality.columns = ['count', 'mean']\n",
    "\n",
    "#сортивка по уменьшению с наибольшого числа объявлений\n",
    "squere_meter_locality = squere_meter_locality.sort_values('count', ascending = False)\n",
    "squere_meter_locality = squere_meter_locality[:10]\n",
    "\n",
    "# min и max стоимость жилья в 10 населённых пунктов с наибольшим числом объявлений\n",
    "locality_min = squere_meter_locality['mean'].min()\n",
    "locality_max = squere_meter_locality['mean'].max()\n",
    "print(squere_meter_locality)\n"
   ]
  },
  {
   "cell_type": "markdown",
   "metadata": {},
   "source": [
    "#### Вывод\n",
    "\n",
    "Наибольшее число объявленией продажи квартир и самая высокая средняя стоимость квадратного метра находяться в г.Санкт-Петербург.  "
   ]
  },
  {
   "cell_type": "markdown",
   "metadata": {},
   "source": [
    "### Изучение предложение квартир"
   ]
  },
  {
   "cell_type": "code",
   "execution_count": 20,
   "metadata": {},
   "outputs": [
    {
     "data": {
      "text/plain": [
       "61"
      ]
     },
     "metadata": {},
     "output_type": "display_data"
    },
    {
     "data": {
      "text/plain": [
       "15660"
      ]
     },
     "metadata": {},
     "output_type": "display_data"
    },
    {
     "data": {
      "text/plain": [
       "<matplotlib.axes._subplots.AxesSubplot at 0x7f7f3bff2c10>"
      ]
     },
     "execution_count": 20,
     "metadata": {},
     "output_type": "execute_result"
    },
    {
     "data": {
      "image/png": "[encoded data removed]",
      "text/plain": [
       "<Figure size 720x360 with 1 Axes>"
      ]
     },
     "metadata": {
      "needs_background": "light"
     },
     "output_type": "display_data"
    }
   ],
   "source": [
    "#Выделение квартиры в Санкт-Петербурге 'locality_name' в data_saint_peter \n",
    "\n",
    "data_saint_peter = data.query('locality_name == \"Санкт-Петербург\"')\n",
    "#display(data_saint_peter['locality_name'])\n",
    "\n",
    "\n",
    "#Создание столбца с расстоянием до центра в километрах: округление до целых значений.\n",
    "\n",
    "#Проверка на пропуски\n",
    "display(data_saint_peter['cityCenters_nearest'].isnull().sum()) #сумма пропусков - 61\n",
    "display(data_saint_peter['cityCenters_nearest'].count()) #количество квартир в Санкт-Петербурге\n",
    "# Дроп квартиры с пропуками, потому что их очень мало\n",
    "data_saint_peter = data_saint_peter.dropna(subset = ['cityCenters_nearest'])\n",
    "#display(data_saint_peter['cityCenters_nearest'].isnull().sum())\n",
    "#display(data_saint_peter['cityCenters_nearest'].count()) #почему-то количество квартир осталось прежним!!?\n",
    "\n",
    "#перевод в км и округление до целых чисел форматом int\n",
    "data_saint_peter['cityCenters_nearest_int'] = data_saint_peter['cityCenters_nearest'] / 1000\n",
    "data_saint_peter['cityCenters_nearest_int'] = data_saint_peter['cityCenters_nearest_int'].astype('int')\n",
    "#data_saint_peter.info()  #успешно проведено форматирование\n",
    "\n",
    "# Стоимость километра\n",
    "price_km_saint_peter = data_saint_peter.pivot_table(index = 'cityCenters_nearest_int', values = 'price_squere_meter', aggfunc = 'mean')\n",
    "price_km_saint_peter.plot(grid=True, xlim=(0, 30), figsize=(10, 5))"
   ]
  },
  {
   "cell_type": "markdown",
   "metadata": {},
   "source": [
    "#### Вывод\n",
    "Средняя стоимость для каждого киломентра сильно меняется на 3 км и потом возрастает. \n",
    "Центральная зона будет считаться радиусом 3 км от центра города."
   ]
  },
  {
   "cell_type": "markdown",
   "metadata": {},
   "source": [
    "### Выделение сегмента квартир в центре"
   ]
  },
  {
   "cell_type": "markdown",
   "metadata": {},
   "source": [
    "#### Факторы, которые влияют на стоимость квартиры (число комнат, этаж, удалённость от центра)"
   ]
  },
  {
   "cell_type": "code",
   "execution_count": 21,
   "metadata": {},
   "outputs": [
    {
     "data": {
      "text/html": [
       "<div>\n",
       "<style scoped>\n",
       "    .dataframe tbody tr th:only-of-type {\n",
       "        vertical-align: middle;\n",
       "    }\n",
       "\n",
       "    .dataframe tbody tr th {\n",
       "        vertical-align: top;\n",
       "    }\n",
       "\n",
       "    .dataframe thead th {\n",
       "        text-align: right;\n",
       "    }\n",
       "</style>\n",
       "<table border=\"1\" class=\"dataframe\">\n",
       "  <thead>\n",
       "    <tr style=\"text-align: right;\">\n",
       "      <th></th>\n",
       "      <th>total_images</th>\n",
       "      <th>last_price</th>\n",
       "      <th>total_area</th>\n",
       "      <th>first_day_exposition</th>\n",
       "      <th>rooms</th>\n",
       "      <th>ceiling_height</th>\n",
       "      <th>floors_total</th>\n",
       "      <th>living_area</th>\n",
       "      <th>floor</th>\n",
       "      <th>is_apartment</th>\n",
       "      <th>...</th>\n",
       "      <th>days_exposition</th>\n",
       "      <th>price_squere_meter</th>\n",
       "      <th>month_year_exposition</th>\n",
       "      <th>weekday</th>\n",
       "      <th>weekday_name</th>\n",
       "      <th>month</th>\n",
       "      <th>month_name</th>\n",
       "      <th>year</th>\n",
       "      <th>new_floor</th>\n",
       "      <th>cityCenters_nearest_int</th>\n",
       "    </tr>\n",
       "  </thead>\n",
       "  <tbody>\n",
       "    <tr>\n",
       "      <td>24</td>\n",
       "      <td>8</td>\n",
       "      <td>6500000.0</td>\n",
       "      <td>97.2</td>\n",
       "      <td>2015-10-31T00:00:00</td>\n",
       "      <td>2</td>\n",
       "      <td>2.70</td>\n",
       "      <td>3.0</td>\n",
       "      <td>46.5</td>\n",
       "      <td>1</td>\n",
       "      <td>NaN</td>\n",
       "      <td>...</td>\n",
       "      <td>265</td>\n",
       "      <td>139784.946237</td>\n",
       "      <td>2015-10-31</td>\n",
       "      <td>5</td>\n",
       "      <td>Saturday</td>\n",
       "      <td>10</td>\n",
       "      <td>October</td>\n",
       "      <td>2015</td>\n",
       "      <td>первый</td>\n",
       "      <td>2</td>\n",
       "    </tr>\n",
       "    <tr>\n",
       "      <td>35</td>\n",
       "      <td>6</td>\n",
       "      <td>15500000.0</td>\n",
       "      <td>149.0</td>\n",
       "      <td>2017-06-26T00:00:00</td>\n",
       "      <td>5</td>\n",
       "      <td>2.70</td>\n",
       "      <td>5.0</td>\n",
       "      <td>104.0</td>\n",
       "      <td>4</td>\n",
       "      <td>NaN</td>\n",
       "      <td>...</td>\n",
       "      <td>644</td>\n",
       "      <td>149038.461538</td>\n",
       "      <td>2017-06-26</td>\n",
       "      <td>0</td>\n",
       "      <td>Monday</td>\n",
       "      <td>6</td>\n",
       "      <td>June</td>\n",
       "      <td>2017</td>\n",
       "      <td>другой</td>\n",
       "      <td>3</td>\n",
       "    </tr>\n",
       "    <tr>\n",
       "      <td>99</td>\n",
       "      <td>32</td>\n",
       "      <td>9600000.0</td>\n",
       "      <td>90.0</td>\n",
       "      <td>2017-09-26T00:00:00</td>\n",
       "      <td>4</td>\n",
       "      <td>2.70</td>\n",
       "      <td>5.0</td>\n",
       "      <td>67.0</td>\n",
       "      <td>2</td>\n",
       "      <td>NaN</td>\n",
       "      <td>...</td>\n",
       "      <td>104</td>\n",
       "      <td>143283.582090</td>\n",
       "      <td>2017-09-26</td>\n",
       "      <td>1</td>\n",
       "      <td>Tuesday</td>\n",
       "      <td>9</td>\n",
       "      <td>September</td>\n",
       "      <td>2017</td>\n",
       "      <td>другой</td>\n",
       "      <td>2</td>\n",
       "    </tr>\n",
       "    <tr>\n",
       "      <td>136</td>\n",
       "      <td>16</td>\n",
       "      <td>6500000.0</td>\n",
       "      <td>51.8</td>\n",
       "      <td>2018-08-01T00:00:00</td>\n",
       "      <td>2</td>\n",
       "      <td>3.45</td>\n",
       "      <td>6.0</td>\n",
       "      <td>25.6</td>\n",
       "      <td>2</td>\n",
       "      <td>NaN</td>\n",
       "      <td>...</td>\n",
       "      <td>163</td>\n",
       "      <td>253906.250000</td>\n",
       "      <td>2018-08-01</td>\n",
       "      <td>2</td>\n",
       "      <td>Wednesday</td>\n",
       "      <td>8</td>\n",
       "      <td>August</td>\n",
       "      <td>2018</td>\n",
       "      <td>другой</td>\n",
       "      <td>3</td>\n",
       "    </tr>\n",
       "    <tr>\n",
       "      <td>138</td>\n",
       "      <td>8</td>\n",
       "      <td>4800000.0</td>\n",
       "      <td>40.0</td>\n",
       "      <td>2017-11-18T00:00:00</td>\n",
       "      <td>2</td>\n",
       "      <td>2.70</td>\n",
       "      <td>3.0</td>\n",
       "      <td>29.0</td>\n",
       "      <td>2</td>\n",
       "      <td>NaN</td>\n",
       "      <td>...</td>\n",
       "      <td>80</td>\n",
       "      <td>165517.241379</td>\n",
       "      <td>2017-11-18</td>\n",
       "      <td>5</td>\n",
       "      <td>Saturday</td>\n",
       "      <td>11</td>\n",
       "      <td>November</td>\n",
       "      <td>2017</td>\n",
       "      <td>другой</td>\n",
       "      <td>2</td>\n",
       "    </tr>\n",
       "    <tr>\n",
       "      <td>154</td>\n",
       "      <td>1</td>\n",
       "      <td>8200000.0</td>\n",
       "      <td>80.0</td>\n",
       "      <td>2018-11-06T00:00:00</td>\n",
       "      <td>3</td>\n",
       "      <td>4.15</td>\n",
       "      <td>3.0</td>\n",
       "      <td>44.2</td>\n",
       "      <td>2</td>\n",
       "      <td>NaN</td>\n",
       "      <td>...</td>\n",
       "      <td>38</td>\n",
       "      <td>185520.361991</td>\n",
       "      <td>2018-11-06</td>\n",
       "      <td>1</td>\n",
       "      <td>Tuesday</td>\n",
       "      <td>11</td>\n",
       "      <td>November</td>\n",
       "      <td>2018</td>\n",
       "      <td>другой</td>\n",
       "      <td>3</td>\n",
       "    </tr>\n",
       "    <tr>\n",
       "      <td>155</td>\n",
       "      <td>8</td>\n",
       "      <td>96000000.0</td>\n",
       "      <td>317.0</td>\n",
       "      <td>2017-07-07T00:00:00</td>\n",
       "      <td>4</td>\n",
       "      <td>3.50</td>\n",
       "      <td>3.0</td>\n",
       "      <td>183.0</td>\n",
       "      <td>3</td>\n",
       "      <td>NaN</td>\n",
       "      <td>...</td>\n",
       "      <td>62</td>\n",
       "      <td>524590.163934</td>\n",
       "      <td>2017-07-07</td>\n",
       "      <td>4</td>\n",
       "      <td>Friday</td>\n",
       "      <td>7</td>\n",
       "      <td>July</td>\n",
       "      <td>2017</td>\n",
       "      <td>последний</td>\n",
       "      <td>1</td>\n",
       "    </tr>\n",
       "    <tr>\n",
       "      <td>179</td>\n",
       "      <td>5</td>\n",
       "      <td>14800000.0</td>\n",
       "      <td>108.7</td>\n",
       "      <td>2019-04-11T00:00:00</td>\n",
       "      <td>3</td>\n",
       "      <td>4.00</td>\n",
       "      <td>5.0</td>\n",
       "      <td>72.4</td>\n",
       "      <td>5</td>\n",
       "      <td>NaN</td>\n",
       "      <td>...</td>\n",
       "      <td>0</td>\n",
       "      <td>204419.889503</td>\n",
       "      <td>2019-04-11</td>\n",
       "      <td>3</td>\n",
       "      <td>Thursday</td>\n",
       "      <td>4</td>\n",
       "      <td>April</td>\n",
       "      <td>2019</td>\n",
       "      <td>последний</td>\n",
       "      <td>2</td>\n",
       "    </tr>\n",
       "    <tr>\n",
       "      <td>181</td>\n",
       "      <td>2</td>\n",
       "      <td>7900000.0</td>\n",
       "      <td>71.8</td>\n",
       "      <td>2017-08-23T00:00:00</td>\n",
       "      <td>3</td>\n",
       "      <td>3.00</td>\n",
       "      <td>5.0</td>\n",
       "      <td>38.7</td>\n",
       "      <td>1</td>\n",
       "      <td>NaN</td>\n",
       "      <td>...</td>\n",
       "      <td>0</td>\n",
       "      <td>204134.366925</td>\n",
       "      <td>2017-08-23</td>\n",
       "      <td>2</td>\n",
       "      <td>Wednesday</td>\n",
       "      <td>8</td>\n",
       "      <td>August</td>\n",
       "      <td>2017</td>\n",
       "      <td>первый</td>\n",
       "      <td>3</td>\n",
       "    </tr>\n",
       "    <tr>\n",
       "      <td>201</td>\n",
       "      <td>5</td>\n",
       "      <td>10880000.0</td>\n",
       "      <td>123.1</td>\n",
       "      <td>2015-11-12T00:00:00</td>\n",
       "      <td>6</td>\n",
       "      <td>3.20</td>\n",
       "      <td>5.0</td>\n",
       "      <td>89.0</td>\n",
       "      <td>2</td>\n",
       "      <td>NaN</td>\n",
       "      <td>...</td>\n",
       "      <td>992</td>\n",
       "      <td>122247.191011</td>\n",
       "      <td>2015-11-12</td>\n",
       "      <td>3</td>\n",
       "      <td>Thursday</td>\n",
       "      <td>11</td>\n",
       "      <td>November</td>\n",
       "      <td>2015</td>\n",
       "      <td>другой</td>\n",
       "      <td>3</td>\n",
       "    </tr>\n",
       "  </tbody>\n",
       "</table>\n",
       "<p>10 rows × 31 columns</p>\n",
       "</div>"
      ],
      "text/plain": [
       "     total_images  last_price  total_area first_day_exposition  rooms  \\\n",
       "24              8   6500000.0        97.2  2015-10-31T00:00:00      2   \n",
       "35              6  15500000.0       149.0  2017-06-26T00:00:00      5   \n",
       "99             32   9600000.0        90.0  2017-09-26T00:00:00      4   \n",
       "136            16   6500000.0        51.8  2018-08-01T00:00:00      2   \n",
       "138             8   4800000.0        40.0  2017-11-18T00:00:00      2   \n",
       "154             1   8200000.0        80.0  2018-11-06T00:00:00      3   \n",
       "155             8  96000000.0       317.0  2017-07-07T00:00:00      4   \n",
       "179             5  14800000.0       108.7  2019-04-11T00:00:00      3   \n",
       "181             2   7900000.0        71.8  2017-08-23T00:00:00      3   \n",
       "201             5  10880000.0       123.1  2015-11-12T00:00:00      6   \n",
       "\n",
       "     ceiling_height  floors_total  living_area  floor is_apartment  ...  \\\n",
       "24             2.70           3.0         46.5      1          NaN  ...   \n",
       "35             2.70           5.0        104.0      4          NaN  ...   \n",
       "99             2.70           5.0         67.0      2          NaN  ...   \n",
       "136            3.45           6.0         25.6      2          NaN  ...   \n",
       "138            2.70           3.0         29.0      2          NaN  ...   \n",
       "154            4.15           3.0         44.2      2          NaN  ...   \n",
       "155            3.50           3.0        183.0      3          NaN  ...   \n",
       "179            4.00           5.0         72.4      5          NaN  ...   \n",
       "181            3.00           5.0         38.7      1          NaN  ...   \n",
       "201            3.20           5.0         89.0      2          NaN  ...   \n",
       "\n",
       "     days_exposition  price_squere_meter  month_year_exposition  weekday  \\\n",
       "24               265       139784.946237             2015-10-31        5   \n",
       "35               644       149038.461538             2017-06-26        0   \n",
       "99               104       143283.582090             2017-09-26        1   \n",
       "136              163       253906.250000             2018-08-01        2   \n",
       "138               80       165517.241379             2017-11-18        5   \n",
       "154               38       185520.361991             2018-11-06        1   \n",
       "155               62       524590.163934             2017-07-07        4   \n",
       "179                0       204419.889503             2019-04-11        3   \n",
       "181                0       204134.366925             2017-08-23        2   \n",
       "201              992       122247.191011             2015-11-12        3   \n",
       "\n",
       "    weekday_name  month  month_name  year  new_floor  cityCenters_nearest_int  \n",
       "24      Saturday     10     October  2015     первый                        2  \n",
       "35        Monday      6        June  2017     другой                        3  \n",
       "99       Tuesday      9   September  2017     другой                        2  \n",
       "136    Wednesday      8      August  2018     другой                        3  \n",
       "138     Saturday     11    November  2017     другой                        2  \n",
       "154      Tuesday     11    November  2018     другой                        3  \n",
       "155       Friday      7        July  2017  последний                        1  \n",
       "179     Thursday      4       April  2019  последний                        2  \n",
       "181    Wednesday      8      August  2017     первый                        3  \n",
       "201     Thursday     11    November  2015     другой                        3  \n",
       "\n",
       "[10 rows x 31 columns]"
      ]
     },
     "metadata": {},
     "output_type": "display_data"
    }
   ],
   "source": [
    "#Выделение квартиры центральной зоне в Санкт-Петербурге 'locality_name' в data_saint_peter_3km\n",
    "data_saint_peter_3km = data_saint_peter.query('cityCenters_nearest_int <= 3')\n",
    "display(data_saint_peter_3km.head(10))"
   ]
  },
  {
   "cell_type": "code",
   "execution_count": 22,
   "metadata": {},
   "outputs": [
    {
     "name": "stdout",
     "output_type": "stream",
     "text": [
      "Коэффициент корреляции Пирсона цены от комнат 0.2\n"
     ]
    },
    {
     "data": {
      "image/png": "[encoded data removed]",
      "text/plain": [
       "<Figure size 432x288 with 1 Axes>"
      ]
     },
     "metadata": {
      "needs_background": "light"
     },
     "output_type": "display_data"
    }
   ],
   "source": [
    "#Вычисление коэффициента корреляции Пирсона для price_squere_meter и 'rooms'\n",
    "print('Коэффициент корреляции Пирсона цены от комнат {:.1f}'.format(data_saint_peter_3km['price_squere_meter'].corr(data_saint_peter_3km['total_area'])))\n",
    "saint_peter_3km_area = data_saint_peter_3km.pivot_table(index='rooms', values='price_squere_meter', aggfunc=['mean', 'count', 'median'])\n",
    "saint_peter_3km_area.columns = ['mean', 'count', 'median']\n",
    "saint_peter_3km_area.plot(y='median', grid=True)\n",
    "plt.title('Количество комнат в квартире')\n",
    "plt.xlabel('Количество комнат, шт')\n",
    "plt.ylabel('Стоимость квардратного метра, руб')\n",
    "plt.show()"
   ]
  },
  {
   "cell_type": "markdown",
   "metadata": {},
   "source": [
    "Стоимость квадратного метра до 6 комнат падает, но потом стоимость возрастает до 9 комнат."
   ]
  },
  {
   "cell_type": "code",
   "execution_count": 23,
   "metadata": {},
   "outputs": [
    {
     "name": "stdout",
     "output_type": "stream",
     "text": [
      "Коэффициент корреляции Пирсона цены от комнат 0.2\n"
     ]
    },
    {
     "data": {
      "image/png": "[encoded data removed]",
      "text/plain": [
       "<Figure size 432x288 with 1 Axes>"
      ]
     },
     "metadata": {
      "needs_background": "light"
     },
     "output_type": "display_data"
    }
   ],
   "source": [
    "#Вычисление коэффициента корреляции Пирсона для price_squere_meter и 'floor'\n",
    "#коэффициент кореляции Пиросна не работает с форматом str, поэтому рассмотрим хотя бы от 'floor'\n",
    "print('Коэффициент корреляции Пирсона цены от комнат {:.1f}'.format(data_saint_peter_3km['price_squere_meter'].corr(data_saint_peter_3km['floor'])))\n",
    "saint_peter_3km_floor = data_saint_peter_3km.pivot_table(index='new_floor', values='price_squere_meter', aggfunc=['mean', 'count', 'median'])\n",
    "saint_peter_3km_floor.columns = ['mean', 'count', 'median']\n",
    "saint_peter_3km_floor.plot(y='median', grid=True)\n",
    "plt.title('Стоимость этажа')\n",
    "plt.xlabel('Наименование этажа')\n",
    "plt.ylabel('Стоимость квардратного метра, руб')\n",
    "plt.show()"
   ]
  },
  {
   "cell_type": "markdown",
   "metadata": {},
   "source": [
    "Самая высокоая стоимость квадратного метра у этажа \"другой\", стоимость первого и последнего этажа почти одинаково стоят."
   ]
  },
  {
   "cell_type": "code",
   "execution_count": 24,
   "metadata": {},
   "outputs": [
    {
     "name": "stdout",
     "output_type": "stream",
     "text": [
      "Коэффициент корреляции Пирсона цены от удаленности от центра -0.1\n"
     ]
    },
    {
     "data": {
      "image/png": "[encoded data removed]",
      "text/plain": [
       "<Figure size 432x288 with 1 Axes>"
      ]
     },
     "metadata": {
      "needs_background": "light"
     },
     "output_type": "display_data"
    }
   ],
   "source": [
    "#Вычисление коэффициента корреляции Пирсона для last_price и 'cityCenters_nearest_int'\n",
    "index_nearest_int = data_saint_peter_3km['price_squere_meter'].corr(data_saint_peter_3km['cityCenters_nearest_int'])\n",
    "print('Коэффициент корреляции Пирсона цены от удаленности от центра {:.1f}'.format(index_nearest_int))\n",
    "saint_peter_city = data_saint_peter_3km.pivot_table(index='cityCenters_nearest_int', values='price_squere_meter', aggfunc=['mean', 'count', 'median'])\n",
    "saint_peter_city.columns = ['mean', 'count', 'median']\n",
    "saint_peter_city.plot(y='median', grid=True)\n",
    "plt.title('Стоимость квартир в зависимости от удаленности от центра')\n",
    "plt.xlabel('Расстояние до центра, км')\n",
    "plt.ylabel('Стоимость квардратного метра, руб')\n",
    "plt.show()"
   ]
  },
  {
   "cell_type": "markdown",
   "metadata": {},
   "source": [
    "Стоимость квадратного метра уменьшается с увеличением расстояния от квартиры до центра города."
   ]
  },
  {
   "cell_type": "markdown",
   "metadata": {},
   "source": [
    "#### Факторы, которые влияют на стоимость квартиры (дата размещения)"
   ]
  },
  {
   "cell_type": "code",
   "execution_count": 25,
   "metadata": {},
   "outputs": [
    {
     "name": "stdout",
     "output_type": "stream",
     "text": [
      "Коэффициент корреляции Пирсона цены от дня недели -0.0\n"
     ]
    },
    {
     "data": {
      "image/png": "[encoded data removed]",
      "text/plain": [
       "<Figure size 432x288 with 1 Axes>"
      ]
     },
     "metadata": {
      "needs_background": "light"
     },
     "output_type": "display_data"
    },
    {
     "data": {
      "text/html": [
       "<div>\n",
       "<style scoped>\n",
       "    .dataframe tbody tr th:only-of-type {\n",
       "        vertical-align: middle;\n",
       "    }\n",
       "\n",
       "    .dataframe tbody tr th {\n",
       "        vertical-align: top;\n",
       "    }\n",
       "\n",
       "    .dataframe thead th {\n",
       "        text-align: right;\n",
       "    }\n",
       "</style>\n",
       "<table border=\"1\" class=\"dataframe\">\n",
       "  <thead>\n",
       "    <tr style=\"text-align: right;\">\n",
       "      <th></th>\n",
       "      <th>mean</th>\n",
       "      <th>count</th>\n",
       "      <th>median</th>\n",
       "    </tr>\n",
       "    <tr>\n",
       "      <th>weekday_name</th>\n",
       "      <th></th>\n",
       "      <th></th>\n",
       "      <th></th>\n",
       "    </tr>\n",
       "  </thead>\n",
       "  <tbody>\n",
       "    <tr>\n",
       "      <td>Monday</td>\n",
       "      <td>252143.123647</td>\n",
       "      <td>159</td>\n",
       "      <td>217391.304348</td>\n",
       "    </tr>\n",
       "    <tr>\n",
       "      <td>Friday</td>\n",
       "      <td>235418.270451</td>\n",
       "      <td>199</td>\n",
       "      <td>201780.415430</td>\n",
       "    </tr>\n",
       "    <tr>\n",
       "      <td>Tuesday</td>\n",
       "      <td>265734.454866</td>\n",
       "      <td>178</td>\n",
       "      <td>191304.167005</td>\n",
       "    </tr>\n",
       "    <tr>\n",
       "      <td>Saturday</td>\n",
       "      <td>284776.216075</td>\n",
       "      <td>70</td>\n",
       "      <td>189181.286550</td>\n",
       "    </tr>\n",
       "    <tr>\n",
       "      <td>Wednesday</td>\n",
       "      <td>244108.201784</td>\n",
       "      <td>185</td>\n",
       "      <td>186111.111111</td>\n",
       "    </tr>\n",
       "    <tr>\n",
       "      <td>Sunday</td>\n",
       "      <td>243539.035799</td>\n",
       "      <td>63</td>\n",
       "      <td>184952.978056</td>\n",
       "    </tr>\n",
       "    <tr>\n",
       "      <td>Thursday</td>\n",
       "      <td>250801.301243</td>\n",
       "      <td>240</td>\n",
       "      <td>180352.342550</td>\n",
       "    </tr>\n",
       "  </tbody>\n",
       "</table>\n",
       "</div>"
      ],
      "text/plain": [
       "                       mean  count         median\n",
       "weekday_name                                     \n",
       "Monday        252143.123647    159  217391.304348\n",
       "Friday        235418.270451    199  201780.415430\n",
       "Tuesday       265734.454866    178  191304.167005\n",
       "Saturday      284776.216075     70  189181.286550\n",
       "Wednesday     244108.201784    185  186111.111111\n",
       "Sunday        243539.035799     63  184952.978056\n",
       "Thursday      250801.301243    240  180352.342550"
      ]
     },
     "metadata": {},
     "output_type": "display_data"
    },
    {
     "name": "stdout",
     "output_type": "stream",
     "text": [
      "Коэффициент корреляции Пирсона цены от месяца -0.0\n"
     ]
    },
    {
     "data": {
      "image/png": "[encoded data removed]",
      "text/plain": [
       "<Figure size 864x288 with 1 Axes>"
      ]
     },
     "metadata": {
      "needs_background": "light"
     },
     "output_type": "display_data"
    },
    {
     "data": {
      "text/html": [
       "<div>\n",
       "<style scoped>\n",
       "    .dataframe tbody tr th:only-of-type {\n",
       "        vertical-align: middle;\n",
       "    }\n",
       "\n",
       "    .dataframe tbody tr th {\n",
       "        vertical-align: top;\n",
       "    }\n",
       "\n",
       "    .dataframe thead th {\n",
       "        text-align: right;\n",
       "    }\n",
       "</style>\n",
       "<table border=\"1\" class=\"dataframe\">\n",
       "  <thead>\n",
       "    <tr style=\"text-align: right;\">\n",
       "      <th></th>\n",
       "      <th>mean</th>\n",
       "      <th>count</th>\n",
       "      <th>median</th>\n",
       "    </tr>\n",
       "    <tr>\n",
       "      <th>month_name</th>\n",
       "      <th></th>\n",
       "      <th></th>\n",
       "      <th></th>\n",
       "    </tr>\n",
       "  </thead>\n",
       "  <tbody>\n",
       "    <tr>\n",
       "      <td>January</td>\n",
       "      <td>190158.620557</td>\n",
       "      <td>1325</td>\n",
       "      <td>173333.333333</td>\n",
       "    </tr>\n",
       "    <tr>\n",
       "      <td>September</td>\n",
       "      <td>190025.121371</td>\n",
       "      <td>1889</td>\n",
       "      <td>172872.340426</td>\n",
       "    </tr>\n",
       "    <tr>\n",
       "      <td>December</td>\n",
       "      <td>190053.050346</td>\n",
       "      <td>1373</td>\n",
       "      <td>170157.068063</td>\n",
       "    </tr>\n",
       "    <tr>\n",
       "      <td>August</td>\n",
       "      <td>184903.364222</td>\n",
       "      <td>1611</td>\n",
       "      <td>169847.328244</td>\n",
       "    </tr>\n",
       "    <tr>\n",
       "      <td>April</td>\n",
       "      <td>189358.283511</td>\n",
       "      <td>2222</td>\n",
       "      <td>168777.055488</td>\n",
       "    </tr>\n",
       "    <tr>\n",
       "      <td>July</td>\n",
       "      <td>187766.381660</td>\n",
       "      <td>1545</td>\n",
       "      <td>168421.052632</td>\n",
       "    </tr>\n",
       "    <tr>\n",
       "      <td>November</td>\n",
       "      <td>193729.150286</td>\n",
       "      <td>2255</td>\n",
       "      <td>168338.108883</td>\n",
       "    </tr>\n",
       "    <tr>\n",
       "      <td>October</td>\n",
       "      <td>183174.438589</td>\n",
       "      <td>2026</td>\n",
       "      <td>168164.588529</td>\n",
       "    </tr>\n",
       "    <tr>\n",
       "      <td>February</td>\n",
       "      <td>187549.533052</td>\n",
       "      <td>2379</td>\n",
       "      <td>167052.023121</td>\n",
       "    </tr>\n",
       "    <tr>\n",
       "      <td>May</td>\n",
       "      <td>185179.698474</td>\n",
       "      <td>1196</td>\n",
       "      <td>165726.062143</td>\n",
       "    </tr>\n",
       "    <tr>\n",
       "      <td>March</td>\n",
       "      <td>183377.242769</td>\n",
       "      <td>2358</td>\n",
       "      <td>165334.075134</td>\n",
       "    </tr>\n",
       "    <tr>\n",
       "      <td>June</td>\n",
       "      <td>184178.669476</td>\n",
       "      <td>1617</td>\n",
       "      <td>163967.611336</td>\n",
       "    </tr>\n",
       "  </tbody>\n",
       "</table>\n",
       "</div>"
      ],
      "text/plain": [
       "                     mean  count         median\n",
       "month_name                                     \n",
       "January     190158.620557   1325  173333.333333\n",
       "September   190025.121371   1889  172872.340426\n",
       "December    190053.050346   1373  170157.068063\n",
       "August      184903.364222   1611  169847.328244\n",
       "April       189358.283511   2222  168777.055488\n",
       "July        187766.381660   1545  168421.052632\n",
       "November    193729.150286   2255  168338.108883\n",
       "October     183174.438589   2026  168164.588529\n",
       "February    187549.533052   2379  167052.023121\n",
       "May         185179.698474   1196  165726.062143\n",
       "March       183377.242769   2358  165334.075134\n",
       "June        184178.669476   1617  163967.611336"
      ]
     },
     "metadata": {},
     "output_type": "display_data"
    },
    {
     "name": "stdout",
     "output_type": "stream",
     "text": [
      "Коэффициент корреляции Пирсона цены от года 0.0\n"
     ]
    },
    {
     "data": {
      "image/png": "[encoded data removed]",
      "text/plain": [
       "<Figure size 432x288 with 1 Axes>"
      ]
     },
     "metadata": {
      "needs_background": "light"
     },
     "output_type": "display_data"
    },
    {
     "data": {
      "text/html": [
       "<div>\n",
       "<style scoped>\n",
       "    .dataframe tbody tr th:only-of-type {\n",
       "        vertical-align: middle;\n",
       "    }\n",
       "\n",
       "    .dataframe tbody tr th {\n",
       "        vertical-align: top;\n",
       "    }\n",
       "\n",
       "    .dataframe thead th {\n",
       "        text-align: right;\n",
       "    }\n",
       "</style>\n",
       "<table border=\"1\" class=\"dataframe\">\n",
       "  <thead>\n",
       "    <tr style=\"text-align: right;\">\n",
       "      <th></th>\n",
       "      <th>mean</th>\n",
       "      <th>count</th>\n",
       "      <th>median</th>\n",
       "    </tr>\n",
       "    <tr>\n",
       "      <th>year</th>\n",
       "      <th></th>\n",
       "      <th></th>\n",
       "      <th></th>\n",
       "    </tr>\n",
       "  </thead>\n",
       "  <tbody>\n",
       "    <tr>\n",
       "      <td>2014</td>\n",
       "      <td>237258.632550</td>\n",
       "      <td>130</td>\n",
       "      <td>208608.159393</td>\n",
       "    </tr>\n",
       "    <tr>\n",
       "      <td>2019</td>\n",
       "      <td>198398.789188</td>\n",
       "      <td>2689</td>\n",
       "      <td>180412.371134</td>\n",
       "    </tr>\n",
       "    <tr>\n",
       "      <td>2018</td>\n",
       "      <td>185068.892858</td>\n",
       "      <td>7527</td>\n",
       "      <td>171428.571429</td>\n",
       "    </tr>\n",
       "    <tr>\n",
       "      <td>2017</td>\n",
       "      <td>183454.845424</td>\n",
       "      <td>7660</td>\n",
       "      <td>165077.290293</td>\n",
       "    </tr>\n",
       "    <tr>\n",
       "      <td>2015</td>\n",
       "      <td>212152.941040</td>\n",
       "      <td>1123</td>\n",
       "      <td>164179.104478</td>\n",
       "    </tr>\n",
       "    <tr>\n",
       "      <td>2016</td>\n",
       "      <td>182068.207858</td>\n",
       "      <td>2667</td>\n",
       "      <td>160000.000000</td>\n",
       "    </tr>\n",
       "  </tbody>\n",
       "</table>\n",
       "</div>"
      ],
      "text/plain": [
       "               mean  count         median\n",
       "year                                     \n",
       "2014  237258.632550    130  208608.159393\n",
       "2019  198398.789188   2689  180412.371134\n",
       "2018  185068.892858   7527  171428.571429\n",
       "2017  183454.845424   7660  165077.290293\n",
       "2015  212152.941040   1123  164179.104478\n",
       "2016  182068.207858   2667  160000.000000"
      ]
     },
     "metadata": {},
     "output_type": "display_data"
    }
   ],
   "source": [
    "#Вычисление коэффициента корреляции Пирсона для price_squere_meter и 'weekday'\n",
    "print('Коэффициент корреляции Пирсона цены от дня недели {:.1f}'.format(data_saint_peter_3km['price_squere_meter'].corr(data_saint_peter_3km['weekday'])))\n",
    "saint_peter_weekday = data_saint_peter_3km.pivot_table(index='weekday_name', values='price_squere_meter', aggfunc=['mean', 'count', 'median'])\n",
    "saint_peter_weekday.columns = ['mean', 'count', 'median']\n",
    "saint_peter_weekday.sort_values('median', ascending = False).plot(y='median', sharex=True, grid=True)\n",
    "plt.show()\n",
    "display(saint_peter_weekday.sort_values('median', ascending = False))\n",
    "\n",
    "#Вычисление коэффициента корреляции Пирсона для price_squere_meter и 'month'\n",
    "print('Коэффициент корреляции Пирсона цены от месяца {:.1f}'.format(data_saint_peter_3km['price_squere_meter'].corr(data_saint_peter_3km['month'])))\n",
    "saint_peter_month = data.pivot_table(index='month_name', values='price_squere_meter', aggfunc=['mean', 'count', 'median'])\n",
    "saint_peter_month.columns = ['mean', 'count', 'median']\n",
    "(\n",
    "    saint_peter_month.sort_values('median', ascending = False)\n",
    "    .plot(y='median', grid=True, xlim=(0, 9), figsize=(12, 4))\n",
    ")\n",
    "plt.show() #не получается вывести все месяцы\n",
    "display(saint_peter_month.sort_values('median', ascending = False))\n",
    "\n",
    "#Вычисление коэффициента корреляции Пирсона для price_squere_meter и 'year'\n",
    "print('Коэффициент корреляции Пирсона цены от года {:.1f}'.format(data_saint_peter_3km['price_squere_meter'].corr(data_saint_peter_3km['year'])))\n",
    "saint_peter_year = data.pivot_table(index='year', values='price_squere_meter', aggfunc=['mean', 'count', 'median'])\n",
    "saint_peter_year.columns = ['mean', 'count', 'median']\n",
    "(\n",
    "    saint_peter_year.sort_values('median', ascending = False)\n",
    "    .plot(y='median', style = 'o', grid=True)\n",
    ")\n",
    "plt.show() \n",
    "display(saint_peter_year.sort_values('median', ascending = False))"
   ]
  },
  {
   "cell_type": "markdown",
   "metadata": {},
   "source": [
    "#### Вывод:\n",
    "1. Факторы влияющие в центре города на стоиомсть квартиры по коэффициенту корреляции Пирсона не обнаружен;\n",
    "2. Стоимость квадратного метра с однокомнатной до 5-ти комнатой квартиры уменьшается;\n",
    "3. Стоимость первого и последнего этажа почти одинаково стоит, в отличие от всего города;\n",
    "4. Чем дальше квартира от центра города, тем дешевле;\n"
   ]
  },
  {
   "cell_type": "markdown",
   "metadata": {},
   "source": [
    "### Шаг 5. Общий вывод"
   ]
  },
  {
   "cell_type": "markdown",
   "metadata": {},
   "source": [
    "Изучен датафрейм, выделены строки с пропусками и выполнена замена пропусков на \"0\" в 'balcony', также заменили пропуски на median в 'ceiling_height'.\n",
    "Добавлены следующие столбцы: цена квадратного метраб день недели, месяц и год публикации объявления, этаж квартиры (варианты — первый, последний, другой). Параметры (площадь, цена, число комнат, высота потолков) имеют вид нормального распределния. После очистки days_data от аномалий среднее время продаж квартир и медиана уменьшилась.\n",
    "\n",
    "При определении факторов влияющие на стоимость квартир, получены следующие результаты:\n",
    "1. Факторы влияющие на стоиомсть квартиры по коээфициенту корреляции Пирсона не обнаружен;\n",
    "2. По графику цена квадратного метра от этажа квартиры (первый и последний) видно, что стоимость последнего этажа дороже первого;\n",
    "3. Высокая стоимость квадратного метра квартиры в понедельник и в январе, возможно связано оптимистичным настроением людей.\n",
    "4. По графику цена квадратного метра от года видно, что после экономического кризиса в 2014 г. цены упали, а после 2016 г. цена постепенно росла;\n",
    "\n",
    "Наибольшее число объявленией в г.Санкт-Петербург, а радиус центральной зоны равняется 3 км от центра города.\n",
    "\n",
    "При аналие сегмента квартир в центре, получены следующие результаты:\n",
    "1. Факторы влияющие в центре города на стоиомсть квартиры по коэффициенту корреляции Пирсона не обнаружен;\n",
    "2. Стоимость квадратного метра с однокомнатной до 5-ти комнатой квартиры уменьшается;\n",
    "3. Стоимость первого и последнего этажа почти одинаково стоит, в отличие от всего города;\n",
    "4. Чем дальше квартира от центра города, тем дешевле;"
   ]
  }
 ],
 "metadata": {
  "kernelspec": {
   "display_name": "Python 3",
   "language": "python",
   "name": "python3"
  },
  "language_info": {
   "codemirror_mode": {
    "name": "ipython",
    "version": 3
   },
   "file_extension": ".py",
   "mimetype": "text/x-python",
   "name": "python",
   "nbconvert_exporter": "python",
   "pygments_lexer": "ipython3",
   "version": "3.8.8"
  },
  "toc": {
   "base_numbering": 1,
   "nav_menu": {},
   "number_sections": true,
   "sideBar": true,
   "skip_h1_title": true,
   "title_cell": "Table of Contents",
   "title_sidebar": "Contents",
   "toc_cell": false,
   "toc_position": {},
   "toc_section_display": true,
   "toc_window_display": false
  }
 },
 "nbformat": 4,
 "nbformat_minor": 2
}
