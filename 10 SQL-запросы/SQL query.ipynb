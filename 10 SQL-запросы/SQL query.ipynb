{
 "cells": [
  {
   "cell_type": "markdown",
   "metadata": {},
   "source": [
    "# 1. Запрос\n",
    "Найдите количество рейсов на каждой модели самолёта с вылетом в сентябре 2018 года. Назовите получившееся поле flights_amount и выведите его. Также напечатайте на экране поле model. Столбцы в таблице должны быть выведены в следующем порядке:\n",
    " - model\n",
    " - flights_amount"
   ]
  },
  {
   "cell_type": "markdown",
   "metadata": {},
   "source": [
    "```SQL\n",
    "SELECT\n",
    "    aircrafts.model,\n",
    "    COUNT(flights.flight_id) AS flights_amount\n",
    "FROM\n",
    "    aircrafts\n",
    "    INNER JOIN flights ON aircrafts.aircraft_code = flights.aircraft_code\n",
    "WHERE flights.departure_time :: date\n",
    "    BETWEEN '2018-09-01' AND '2018-09-30'\n",
    "GROUP BY aircrafts.model;\n",
    "```"
   ]
  },
  {
   "cell_type": "markdown",
   "metadata": {},
   "source": [
    "| MODEL | FLIGHTS_AMOUNT |\n",
    "| :---------------------- | :---------------------- |\n",
    "| Airbus A319-100 | 607 |\n",
    "| Airbus A321-200 | 960 |\n",
    "| Boeing 737-300 | 630 |\n",
    "| Boeing 767-300 | 600 |\n",
    "| Boeing 777-300 | 300 |\n",
    "| Bombardier CRJ-200 | 4446 |\n",
    "| Sukhoi SuperJet-100 |\t4185 |"
   ]
  },
  {
   "cell_type": "markdown",
   "metadata": {},
   "source": [
    "# 2. Запрос \n",
    "Посчитайте отправленные в сентябре рейсы самолётов следующих моделей:\n",
    " - Boeing,\n",
    " - Airbus,\n",
    " - другие (“other”).<div/>\n",
    " \n",
    "Назовите получившуюся переменную flights_amount и выведите её значение на экран."
   ]
  },
  {
   "cell_type": "markdown",
   "metadata": {},
   "source": [
    "```SQL\n",
    "SELECT\n",
    "    CASE WHEN aircrafts.model LIKE '%Boeing%' THEN 'Boeing'\n",
    "    WHEN aircrafts.model LIKE '%Airbus%' THEN 'Airbus'\n",
    "    ELSE 'other'\n",
    "    END AS fly,\n",
    "    COUNT(flights.flight_id) AS flights_amount\n",
    "FROM aircrafts\n",
    "    INNER JOIN flights ON aircrafts.aircraft_code = flights.aircraft_code\n",
    "WHERE \n",
    "    EXTRACT(MONTH FROM flights.departure_time) = '9'\n",
    "GROUP BY \n",
    "    fly;\n",
    "```"
   ]
  },
  {
   "cell_type": "markdown",
   "metadata": {},
   "source": [
    "| FLY | FLIGHTS_AMOUNT |\n",
    "| :---------------------- | :---------------------- |\n",
    "| Airbus | 1567 |\n",
    "| Boeing | 1530 |\n",
    "| other | 13188 |"
   ]
  },
  {
   "cell_type": "markdown",
   "metadata": {},
   "source": [
    "# 3. Запрос\n",
    "Посчитайте среднее количество прибывающих рейсов в день для каждого города за август 2018 года. Назовите получившееся поле average_flights, вместе с ним выведите столбец city.<div/>\n",
    "    Выводите столбцы в таком порядке:\n",
    "    - city,\n",
    "    - average_flights."
   ]
  },
  {
   "cell_type": "markdown",
   "metadata": {},
   "source": [
    "```SQL\n",
    "SELECT\n",
    "    fly.city AS city,\n",
    "    AVG(fly.average_flights) AS average_flights\n",
    "FROM\n",
    "    (SELECT\n",
    "         airports.city AS city,\n",
    "         EXTRACT(DAY FROM flights.arrival_time) AS day,\n",
    "         COUNT(*) AS average_flights\n",
    "    FROM\n",
    "        airports\n",
    "        INNER JOIN flights ON airports.airport_code = flights.arrival_airport\n",
    "    WHERE\n",
    "        EXTRACT(MONTH FROM flights.arrival_time) = '8'\n",
    "    GROUP BY\n",
    "        city,\n",
    "        day) AS fly\n",
    "GROUP BY\n",
    "    city;\n",
    "```"
   ]
  },
  {
   "cell_type": "markdown",
   "metadata": {},
   "source": [
    "| CITY | AVERAGE_FLIGHTS |\n",
    "| :---------------------- | :---------------------- |\n",
    "| Абакан | 3.87097 |\n",
    "| Анадырь | 1 |\n",
    "| Анапа | 2.16129 |\n",
    "| Архангельск | 5.35484 |\n",
    "| Астрахань | 2.45161 |\n",
    "| Барнаул | 1544644 |\n",
    "| Белгород | 6 |\n",
    "| Белоярский | 2 |\n",
    "| Благовещенск | 1 |\n",
    "| Братск | 1 |\n",
    "| Брянск | 10 |\n",
    "| Бугульма | 3 |\n",
    "| Владивосток | 3 |\n",
    "| Владикавказ | 2 |\n",
    "| Волгоград | 5.12903 |\n",
    "| Воркута | 4.58065 |\n",
    "| Воронеж | 2 |\n",
    "| Геленджик | 2.59091 |\n",
    "| Горно-Алтайск | 719895 |\n",
    "| Грозный | 1.12903 |\n",
    "| Екатеринбург | 484618 |\n",
    "| Иваново | 1 |\n",
    "| Ижевск | 1 |\n",
    "| Иркутск | 6.03226 |\n",
    "| Йошкар-Ола | 4.29032 |\n",
    "| Казань | 7.74194 |\n",
    "| Калининград | 2.58065 |\n",
    "| Калуга | 2.03226 |\n",
    "| Кемерово | 2 |\n",
    "| Киров | 6 |\n",
    "| Когалым | 3.16129 |\n",
    "| Комсомольск-на-Амуре | 1 |\n",
    "| Краснодар | 3.90323 |\n",
    "| Красноярск | 1426943 |\n",
    "| Курган | 3.41935 |\n",
    "| Курск | 2.29032 |\n",
    "| Кызыл | 1.27778 |\n",
    "| Липецк | 1.29412 |\n",
    "| Магадан | 1.35714 |\n",
    "| Магнитогорск | 4 |\n",
    "| Махачкала | 3.29032 |\n",
    "| Минеральные Воды | 3.41935 |\n",
    "| Мирный | 6.29032 |\n",
    "| Москва | 129.774 |\n",
    "| Мурманск | 2 |\n",
    "| Надым | 2.29032 |\n",
    "| Нальчик | 3 |\n",
    "| Нарьян-Мар | 1544644 |\n",
    "| Нерюнгри | 2.58065 |\n",
    "| Нефтеюганск | 1 |\n",
    "| Нижневартовск | 3.12903 |\n",
    "| Нижнекамск | 3.74194 |\n",
    "| Нижний Новгород | 5.87097 |\n",
    "| Новокузнецк | 6.03226 |\n",
    "| Новосибирск | 17.3226 |\n",
    "| Новый Уренгой | 8.29032 |\n",
    "| Норильск | 2.29032 |\n",
    "| Ноябрьск | 3 |\n",
    "| Нягань | 1 |\n",
    "| Омск | 3.29032 |\n",
    "| Оренбург | 5 |\n",
    "| Орск | 1.59091 |\n",
    "| Пенза | 4 |\n",
    "| Пермь | 10.129 |\n",
    "| Петрозаводск | 5.87097 |\n",
    "| Петропавловск-Камчатский | 1 |\n",
    "| Псков | 1.54839 |\n",
    "| Ростов-на-Дону | 13058 |\n",
    "| Салехард | 2 |\n",
    "| Самара | 3 |\n",
    "| Санкт-Петербург | 31.1613 |\n",
    "| Саранск | 2 |\n",
    "| Саратов | 4 |\n",
    "| Советский | 9 |\n",
    "| Сочи | 1544856 |\n",
    "| Ставрополь | 2 |\n",
    "| Стрежевой | 1 |\n",
    "| Сургут | 8.74194 |\n",
    "| Сыктывкар | 4.12903 |\n",
    "| Тамбов | 4 |\n",
    "| Томск | 4.19355 |\n",
    "| Тюмень | 6.96774 |\n",
    "| Удачный | 3 |\n",
    "| Улан-Удэ | 1529273 |\n",
    "| Ульяновск | 9.58065 |\n",
    "| Урай | 2 |\n",
    "| Усинск | 1 |\n",
    "| Усть-Илимск | 2.87097 |\n",
    "| Усть-Кут | 1 |\n",
    "| Уфа | 6.29032 |\n",
    "| Ухта | 3 |\n",
    "| Хабаровск | 6.54839 |\n",
    "| Ханты-Мансийск | 8.41935 |\n",
    "| Чебоксары | 5 |\n",
    "| Челябинск | 6.70968 |\n",
    "| Череповец | 2.16129 |\n",
    "| Чита | 1.58065 |\n",
    "| Элиста | 4.87097 |\n",
    "| Южно-Сахалинск | 4.29032 |\n",
    "| Якутск | 2.74194 |\n",
    "| Ярославль | 1.32258 |"
   ]
  },
  {
   "cell_type": "markdown",
   "metadata": {},
   "source": [
    "# 4. Запрос\n",
    "Установите фестивали, которые проходили с 23 июля по 30 сентября 2018 года в Москве, и номер недели, в которую они проходили. Выведите название фестиваля festival_name и номер недели festival_week."
   ]
  },
  {
   "cell_type": "markdown",
   "metadata": {},
   "source": [
    "```SQL\n",
    "SELECT\n",
    "    festival_name AS name,\n",
    "    EXTRACT(WEEK FROM festival_date) AS week\n",
    "FROM\n",
    "    festivals\n",
    "WHERE\n",
    "    festival_city LIKE '%Москва%' AND\n",
    "    festival_date BETWEEN '2018-06-23' AND '2018-09-30'\n",
    "GROUP BY\n",
    "    name,\n",
    "    week;\n",
    "```"
   ]
  },
  {
   "cell_type": "markdown",
   "metadata": {},
   "source": [
    "| NAME | WEEK |\n",
    "| :---- | :---- |\n",
    "| Park Live | 30 |\n",
    "| Видфест | 36 |\n",
    "| Пикник Афиши | 31 |"
   ]
  },
  {
   "cell_type": "markdown",
   "metadata": {},
   "source": [
    "# 5. Запрос\n",
    "Для каждой недели с 23 июля по 30 сентября 2018 года посчитайте билеты, которые купили на рейсы в Москву (номер недели week_number и количество билетов ticket_amount). Получите таблицу:\n",
    " - с количеством купленных за неделю билетов;\n",
    " - отметкой, проходил ли в эту неделю фестиваль;\n",
    " - название фестиваля festival_name;\n",
    " - номер недели week_number.<div/>\n",
    " \n",
    "Выводите столбцы в таком порядке: - week_number - ticket_amount - festival_week - festival_name"
   ]
  },
  {
   "cell_type": "markdown",
   "metadata": {},
   "source": [
    "```SQL\n",
    "SELECT\n",
    "    sub2.week_number,\n",
    "    sub2.ticket_amount,\n",
    "    sub1.festival_week,\n",
    "    sub1.festival_name\n",
    "FROM (SELECT \n",
    "             festival_name, \n",
    "             EXTRACT(week FROM festival_date) AS festival_week\n",
    "     FROM \n",
    "             festivals\n",
    "     WHERE \n",
    "             festival_date BETWEEN '2018-07-23' AND '2018-09-30' AND festival_city = 'Москва') as sub1\n",
    "     RIGHT JOIN \n",
    "                (SELECT   \n",
    "                          EXTRACT(week FROM flights.arrival_time) as week_number,\n",
    "                          count(ticket_flights.ticket_no) as ticket_amount\n",
    "                 FROM \n",
    "                          flights RIGHT JOIN ticket_flights ON ticket_flights.flight_id  = flights.flight_id \n",
    "                 WHERE    CAST(flights.arrival_time as date) BETWEEN '2018-07-23' AND '2018-09-30'\n",
    "                          AND flights.arrival_airport IN (SELECT airport_code FROM airports WHERE city='Москва')\n",
    "                 GROUP BY \n",
    "                          EXTRACT(week FROM flights.arrival_time)) AS sub2 \n",
    "ON sub2.week_number = sub1.festival_week\n",
    "```"
   ]
  },
  {
   "cell_type": "markdown",
   "metadata": {},
   "source": [
    "| WEEK_NUMBER | TICKET_AMOUNT | FESTIVAL_WEEK | FESTIVAL_NAME |\n",
    "| :---- | :---- | :---- | :---- |\n",
    "| 33 | 51378 | nan |\n",
    "| 31 | 51034 | 31 | Пикник Афиши |\n",
    "| 38 | 51518 | nan |\n",
    "| 30 | 43568 | 30 | Park Live |\n",
    "| 32 | 51675 | nan |\n",
    "| 34 | 51492 | nan |\n",
    "| 35 | 51360 | nan |\n",
    "| 37 | 51670 | nan |\n",
    "| 36 | 51386 | 36 | Видфест |\n",
    "| 39 | 51623 | nan |"
   ]
  }
 ],
 "metadata": {
  "kernelspec": {
   "display_name": "Python 3",
   "language": "python",
   "name": "python3"
  },
  "language_info": {
   "codemirror_mode": {
    "name": "ipython",
    "version": 3
   },
   "file_extension": ".py",
   "mimetype": "text/x-python",
   "name": "python",
   "nbconvert_exporter": "python",
   "pygments_lexer": "ipython3",
   "version": "3.8.8"
  }
 },
 "nbformat": 4,
 "nbformat_minor": 4
}
